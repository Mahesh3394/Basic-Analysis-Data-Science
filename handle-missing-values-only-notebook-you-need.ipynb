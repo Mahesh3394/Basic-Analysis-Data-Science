{
 "cells": [
  {
   "cell_type": "markdown",
   "id": "f0236a08",
   "metadata": {
    "papermill": {
     "duration": 0.056272,
     "end_time": "2021-07-29T02:38:47.893588",
     "exception": false,
     "start_time": "2021-07-29T02:38:47.837316",
     "status": "completed"
    },
    "tags": []
   },
   "source": [
    "![Missing values](https://i.imgur.com/ZgPPVC0.jpg)"
   ]
  },
  {
   "cell_type": "markdown",
   "id": "84c7212a",
   "metadata": {
    "papermill": {
     "duration": 0.0517,
     "end_time": "2021-07-29T02:38:47.998912",
     "exception": false,
     "start_time": "2021-07-29T02:38:47.947212",
     "status": "completed"
    },
    "tags": []
   },
   "source": [
    "Before that What are missing values\n",
    "\n",
    "Its has very obvious and straight forward answer, The data that is missing or not present\n",
    "\n",
    "Then Question is why data is missing?\n",
    "\n",
    "because of many reason like data not available, they dont want to share, machine or human error etc.\n",
    "\n"
   ]
  },
  {
   "cell_type": "markdown",
   "id": "f0de528c",
   "metadata": {
    "execution": {
     "iopub.execute_input": "2021-07-15T13:05:51.575314Z",
     "iopub.status.busy": "2021-07-15T13:05:51.574916Z",
     "iopub.status.idle": "2021-07-15T13:05:51.581707Z",
     "shell.execute_reply": "2021-07-15T13:05:51.580373Z",
     "shell.execute_reply.started": "2021-07-15T13:05:51.575282Z"
    },
    "papermill": {
     "duration": 0.052534,
     "end_time": "2021-07-29T02:38:48.103011",
     "exception": false,
     "start_time": "2021-07-29T02:38:48.050477",
     "status": "completed"
    },
    "tags": []
   },
   "source": [
    "3 Method to Handle it\n",
    "1. [Deletion](#deletion)\n",
    "    1. Column drop\n",
    "    1. Row drop\n",
    "1. [Imputation](#imputation)\n",
    "    1. Mean, Median/Mode replace\n",
    "    1. Random Sample\n",
    "    1. Arbitary imputation\n",
    "    1. Frequent categories imputation\n",
    "    1. Capture NaN as new feature\n",
    "1. [Interpolation](#interpolation)\n",
    "1. [Model-Based Imputation](#model)"
   ]
  },
  {
   "cell_type": "markdown",
   "id": "4e242edb",
   "metadata": {
    "papermill": {
     "duration": 0.051378,
     "end_time": "2021-07-29T02:38:48.206898",
     "exception": false,
     "start_time": "2021-07-29T02:38:48.155520",
     "status": "completed"
    },
    "tags": []
   },
   "source": [
    "### I will frequently update this NoteBook, so follow for cool stuff !!"
   ]
  },
  {
   "cell_type": "markdown",
   "id": "399ed03c",
   "metadata": {
    "papermill": {
     "duration": 0.051508,
     "end_time": "2021-07-29T02:38:48.309875",
     "exception": false,
     "start_time": "2021-07-29T02:38:48.258367",
     "status": "completed"
    },
    "tags": []
   },
   "source": [
    "importing libraries"
   ]
  },
  {
   "cell_type": "code",
   "execution_count": 1,
   "id": "7c818a57",
   "metadata": {
    "_kg_hide-input": true,
    "execution": {
     "iopub.execute_input": "2021-07-29T02:38:48.424421Z",
     "iopub.status.busy": "2021-07-29T02:38:48.423864Z",
     "iopub.status.idle": "2021-07-29T02:38:49.268118Z",
     "shell.execute_reply": "2021-07-29T02:38:49.267459Z",
     "shell.execute_reply.started": "2021-07-29T02:32:54.899932Z"
    },
    "jupyter": {
     "source_hidden": true
    },
    "papermill": {
     "duration": 0.906993,
     "end_time": "2021-07-29T02:38:49.268288",
     "exception": false,
     "start_time": "2021-07-29T02:38:48.361295",
     "status": "completed"
    },
    "tags": []
   },
   "outputs": [],
   "source": [
    "import pandas as pd\n",
    "import numpy as np\n",
    "import matplotlib.pyplot as plt\n",
    "import seaborn as sns\n",
    "plt.style.use('fivethirtyeight')\n",
    "import warnings\n",
    "warnings.filterwarnings(\"ignore\")\n",
    "import missingno as miss  # Missingno library offers a very nice way to visualize the distribution of NaN values."
   ]
  },
  {
   "cell_type": "markdown",
   "id": "fae4f696",
   "metadata": {
    "papermill": {
     "duration": 0.051351,
     "end_time": "2021-07-29T02:38:49.371826",
     "exception": false,
     "start_time": "2021-07-29T02:38:49.320475",
     "status": "completed"
    },
    "tags": []
   },
   "source": [
    "reading data"
   ]
  },
  {
   "cell_type": "code",
   "execution_count": 2,
   "id": "9ed840bf",
   "metadata": {
    "_kg_hide-input": true,
    "execution": {
     "iopub.execute_input": "2021-07-29T02:38:49.485231Z",
     "iopub.status.busy": "2021-07-29T02:38:49.484616Z",
     "iopub.status.idle": "2021-07-29T02:38:49.542225Z",
     "shell.execute_reply": "2021-07-29T02:38:49.541722Z",
     "shell.execute_reply.started": "2021-07-29T02:32:54.920395Z"
    },
    "papermill": {
     "duration": 0.118207,
     "end_time": "2021-07-29T02:38:49.542361",
     "exception": false,
     "start_time": "2021-07-29T02:38:49.424154",
     "status": "completed"
    },
    "tags": []
   },
   "outputs": [],
   "source": [
    "titanic = pd.read_csv('../input/titanic/train.csv')\n",
    "house = pd.read_csv('../input/house-prices-advanced-regression-techniques/train.csv')"
   ]
  },
  {
   "cell_type": "markdown",
   "id": "06414e80",
   "metadata": {
    "papermill": {
     "duration": 0.051237,
     "end_time": "2021-07-29T02:38:49.645108",
     "exception": false,
     "start_time": "2021-07-29T02:38:49.593871",
     "status": "completed"
    },
    "tags": []
   },
   "source": [
    "function to calculate how many missing values"
   ]
  },
  {
   "cell_type": "code",
   "execution_count": 3,
   "id": "23bf6542",
   "metadata": {
    "_kg_hide-input": true,
    "execution": {
     "iopub.execute_input": "2021-07-29T02:38:49.755088Z",
     "iopub.status.busy": "2021-07-29T02:38:49.754468Z",
     "iopub.status.idle": "2021-07-29T02:38:49.756089Z",
     "shell.execute_reply": "2021-07-29T02:38:49.756466Z",
     "shell.execute_reply.started": "2021-07-29T02:32:54.958170Z"
    },
    "jupyter": {
     "source_hidden": true
    },
    "papermill": {
     "duration": 0.059898,
     "end_time": "2021-07-29T02:38:49.756621",
     "exception": false,
     "start_time": "2021-07-29T02:38:49.696723",
     "status": "completed"
    },
    "tags": []
   },
   "outputs": [],
   "source": [
    "# credit: https://www.kaggle.com/willkoehrsen/start-here-a-gentle-introduction. \n",
    "def missing_values_table(df):\n",
    "        # Total missing values\n",
    "        mis_val = df.isnull().sum()\n",
    "        \n",
    "        # Percentage of missing values\n",
    "        mis_val_percent = 100 * df.isnull().sum() / len(df)\n",
    "        \n",
    "                \n",
    "        # Coumn for dtypes\n",
    "        dtype = df.dtypes\n",
    "        \n",
    "        # Make a table with the results\n",
    "        mis_val_table = pd.concat([mis_val, mis_val_percent,dtype], axis=1)\n",
    "        \n",
    "        # Rename the columns\n",
    "        mis_val_table_ren_columns = mis_val_table.rename(\n",
    "        columns = {0 : 'Missing Values', 1 : '% of Total Values', 2:'Data Types'})\n",
    "        \n",
    "        # Sort the table by percentage of missing descending\n",
    "        mis_val_table_ren_columns = mis_val_table_ren_columns[\n",
    "            mis_val_table_ren_columns.iloc[:,1] != 0].sort_values(\n",
    "        '% of Total Values', ascending=False).round(1)\n",
    "        \n",
    "        # Print some summary information\n",
    "        print (\"Your selected dataframe has \" + str(df.shape[1]) + \" columns.\\n\"      \n",
    "            \"There are \" + str(mis_val_table_ren_columns.shape[0]) +\n",
    "              \" columns that have missing values.\")\n",
    "        \n",
    "        # Return the dataframe with missing information\n",
    "        return mis_val_table_ren_columns"
   ]
  },
  {
   "cell_type": "markdown",
   "id": "784d9db2",
   "metadata": {
    "papermill": {
     "duration": 0.05126,
     "end_time": "2021-07-29T02:38:49.859280",
     "exception": false,
     "start_time": "2021-07-29T02:38:49.808020",
     "status": "completed"
    },
    "tags": []
   },
   "source": [
    "<a id=\"deletion\"></a>\n",
    "# Deletion"
   ]
  },
  {
   "cell_type": "markdown",
   "id": "ad834055",
   "metadata": {
    "papermill": {
     "duration": 0.0565,
     "end_time": "2021-07-29T02:38:49.967561",
     "exception": false,
     "start_time": "2021-07-29T02:38:49.911061",
     "status": "completed"
    },
    "tags": []
   },
   "source": [
    "1. Column drop\n",
    "1. Row Drop"
   ]
  },
  {
   "cell_type": "markdown",
   "id": "a648e84c",
   "metadata": {
    "papermill": {
     "duration": 0.056437,
     "end_time": "2021-07-29T02:38:50.081451",
     "exception": false,
     "start_time": "2021-07-29T02:38:50.025014",
     "status": "completed"
    },
    "tags": []
   },
   "source": [
    "<a id='col_drop'></a>\n",
    "## Column drop"
   ]
  },
  {
   "cell_type": "code",
   "execution_count": 4,
   "id": "27d861b9",
   "metadata": {
    "execution": {
     "iopub.execute_input": "2021-07-29T02:38:50.189960Z",
     "iopub.status.busy": "2021-07-29T02:38:50.189371Z",
     "iopub.status.idle": "2021-07-29T02:38:50.703876Z",
     "shell.execute_reply": "2021-07-29T02:38:50.704292Z",
     "shell.execute_reply.started": "2021-07-29T02:32:54.965335Z"
    },
    "papermill": {
     "duration": 0.569218,
     "end_time": "2021-07-29T02:38:50.704461",
     "exception": false,
     "start_time": "2021-07-29T02:38:50.135243",
     "status": "completed"
    },
    "tags": []
   },
   "outputs": [
    {
     "data": {
      "text/plain": [
       "<AxesSubplot:>"
      ]
     },
     "execution_count": 4,
     "metadata": {},
     "output_type": "execute_result"
    },
    {
     "data": {
      "image/png": "[encoded data removed]",
      "text/plain": [
       "<Figure size 1800x720 with 2 Axes>"
      ]
     },
     "metadata": {},
     "output_type": "display_data"
    }
   ],
   "source": [
    "miss.matrix(house.sample(300))"
   ]
  },
  {
   "cell_type": "code",
   "execution_count": 5,
   "id": "746fe81a",
   "metadata": {
    "execution": {
     "iopub.execute_input": "2021-07-29T02:38:50.818441Z",
     "iopub.status.busy": "2021-07-29T02:38:50.817892Z",
     "iopub.status.idle": "2021-07-29T02:38:50.860823Z",
     "shell.execute_reply": "2021-07-29T02:38:50.860031Z",
     "shell.execute_reply.started": "2021-07-29T02:32:55.481594Z"
    },
    "papermill": {
     "duration": 0.103031,
     "end_time": "2021-07-29T02:38:50.861010",
     "exception": false,
     "start_time": "2021-07-29T02:38:50.757979",
     "status": "completed"
    },
    "tags": []
   },
   "outputs": [
    {
     "name": "stdout",
     "output_type": "stream",
     "text": [
      "Your selected dataframe has 81 columns.\n",
      "There are 19 columns that have missing values.\n"
     ]
    },
    {
     "data": {
      "text/html": [
       "<div>\n",
       "<style scoped>\n",
       "    .dataframe tbody tr th:only-of-type {\n",
       "        vertical-align: middle;\n",
       "    }\n",
       "\n",
       "    .dataframe tbody tr th {\n",
       "        vertical-align: top;\n",
       "    }\n",
       "\n",
       "    .dataframe thead th {\n",
       "        text-align: right;\n",
       "    }\n",
       "</style>\n",
       "<table border=\"1\" class=\"dataframe\">\n",
       "  <thead>\n",
       "    <tr style=\"text-align: right;\">\n",
       "      <th></th>\n",
       "      <th>Missing Values</th>\n",
       "      <th>% of Total Values</th>\n",
       "      <th>Data Types</th>\n",
       "    </tr>\n",
       "  </thead>\n",
       "  <tbody>\n",
       "    <tr>\n",
       "      <th>PoolQC</th>\n",
       "      <td>1453</td>\n",
       "      <td>99.5</td>\n",
       "      <td>object</td>\n",
       "    </tr>\n",
       "    <tr>\n",
       "      <th>MiscFeature</th>\n",
       "      <td>1406</td>\n",
       "      <td>96.3</td>\n",
       "      <td>object</td>\n",
       "    </tr>\n",
       "    <tr>\n",
       "      <th>Alley</th>\n",
       "      <td>1369</td>\n",
       "      <td>93.8</td>\n",
       "      <td>object</td>\n",
       "    </tr>\n",
       "    <tr>\n",
       "      <th>Fence</th>\n",
       "      <td>1179</td>\n",
       "      <td>80.8</td>\n",
       "      <td>object</td>\n",
       "    </tr>\n",
       "    <tr>\n",
       "      <th>FireplaceQu</th>\n",
       "      <td>690</td>\n",
       "      <td>47.3</td>\n",
       "      <td>object</td>\n",
       "    </tr>\n",
       "    <tr>\n",
       "      <th>LotFrontage</th>\n",
       "      <td>259</td>\n",
       "      <td>17.7</td>\n",
       "      <td>float64</td>\n",
       "    </tr>\n",
       "    <tr>\n",
       "      <th>GarageType</th>\n",
       "      <td>81</td>\n",
       "      <td>5.5</td>\n",
       "      <td>object</td>\n",
       "    </tr>\n",
       "    <tr>\n",
       "      <th>GarageYrBlt</th>\n",
       "      <td>81</td>\n",
       "      <td>5.5</td>\n",
       "      <td>float64</td>\n",
       "    </tr>\n",
       "    <tr>\n",
       "      <th>GarageFinish</th>\n",
       "      <td>81</td>\n",
       "      <td>5.5</td>\n",
       "      <td>object</td>\n",
       "    </tr>\n",
       "    <tr>\n",
       "      <th>GarageQual</th>\n",
       "      <td>81</td>\n",
       "      <td>5.5</td>\n",
       "      <td>object</td>\n",
       "    </tr>\n",
       "    <tr>\n",
       "      <th>GarageCond</th>\n",
       "      <td>81</td>\n",
       "      <td>5.5</td>\n",
       "      <td>object</td>\n",
       "    </tr>\n",
       "    <tr>\n",
       "      <th>BsmtExposure</th>\n",
       "      <td>38</td>\n",
       "      <td>2.6</td>\n",
       "      <td>object</td>\n",
       "    </tr>\n",
       "    <tr>\n",
       "      <th>BsmtFinType2</th>\n",
       "      <td>38</td>\n",
       "      <td>2.6</td>\n",
       "      <td>object</td>\n",
       "    </tr>\n",
       "    <tr>\n",
       "      <th>BsmtFinType1</th>\n",
       "      <td>37</td>\n",
       "      <td>2.5</td>\n",
       "      <td>object</td>\n",
       "    </tr>\n",
       "    <tr>\n",
       "      <th>BsmtCond</th>\n",
       "      <td>37</td>\n",
       "      <td>2.5</td>\n",
       "      <td>object</td>\n",
       "    </tr>\n",
       "    <tr>\n",
       "      <th>BsmtQual</th>\n",
       "      <td>37</td>\n",
       "      <td>2.5</td>\n",
       "      <td>object</td>\n",
       "    </tr>\n",
       "    <tr>\n",
       "      <th>MasVnrArea</th>\n",
       "      <td>8</td>\n",
       "      <td>0.5</td>\n",
       "      <td>float64</td>\n",
       "    </tr>\n",
       "    <tr>\n",
       "      <th>MasVnrType</th>\n",
       "      <td>8</td>\n",
       "      <td>0.5</td>\n",
       "      <td>object</td>\n",
       "    </tr>\n",
       "    <tr>\n",
       "      <th>Electrical</th>\n",
       "      <td>1</td>\n",
       "      <td>0.1</td>\n",
       "      <td>object</td>\n",
       "    </tr>\n",
       "  </tbody>\n",
       "</table>\n",
       "</div>"
      ],
      "text/plain": [
       "              Missing Values  % of Total Values Data Types\n",
       "PoolQC                  1453               99.5     object\n",
       "MiscFeature             1406               96.3     object\n",
       "Alley                   1369               93.8     object\n",
       "Fence                   1179               80.8     object\n",
       "FireplaceQu              690               47.3     object\n",
       "LotFrontage              259               17.7    float64\n",
       "GarageType                81                5.5     object\n",
       "GarageYrBlt               81                5.5    float64\n",
       "GarageFinish              81                5.5     object\n",
       "GarageQual                81                5.5     object\n",
       "GarageCond                81                5.5     object\n",
       "BsmtExposure              38                2.6     object\n",
       "BsmtFinType2              38                2.6     object\n",
       "BsmtFinType1              37                2.5     object\n",
       "BsmtCond                  37                2.5     object\n",
       "BsmtQual                  37                2.5     object\n",
       "MasVnrArea                 8                0.5    float64\n",
       "MasVnrType                 8                0.5     object\n",
       "Electrical                 1                0.1     object"
      ]
     },
     "execution_count": 5,
     "metadata": {},
     "output_type": "execute_result"
    }
   ],
   "source": [
    "house_miss = missing_values_table(house)\n",
    "house_miss"
   ]
  },
  {
   "cell_type": "markdown",
   "id": "559fb62e",
   "metadata": {
    "papermill": {
     "duration": 0.053909,
     "end_time": "2021-07-29T02:38:50.969837",
     "exception": false,
     "start_time": "2021-07-29T02:38:50.915928",
     "status": "completed"
    },
    "tags": []
   },
   "source": [
    "We see here in column `PoolQC` 99.5 % values are missing, Not enough data to take insight from him\n",
    "\n",
    "`MiscFeature`, `Alley` this column also lot of missing values\n",
    "\n",
    "So, we can decide 80 `threshold` to delete columns\n",
    "\n",
    "if column have more than 80% data missing we simply drop those columns"
   ]
  },
  {
   "cell_type": "code",
   "execution_count": 6,
   "id": "6203539f",
   "metadata": {
    "execution": {
     "iopub.execute_input": "2021-07-29T02:38:51.085544Z",
     "iopub.status.busy": "2021-07-29T02:38:51.084975Z",
     "iopub.status.idle": "2021-07-29T02:38:51.087691Z",
     "shell.execute_reply": "2021-07-29T02:38:51.088085Z",
     "shell.execute_reply.started": "2021-07-29T02:32:55.512920Z"
    },
    "papermill": {
     "duration": 0.064113,
     "end_time": "2021-07-29T02:38:51.088244",
     "exception": false,
     "start_time": "2021-07-29T02:38:51.024131",
     "status": "completed"
    },
    "tags": []
   },
   "outputs": [
    {
     "data": {
      "text/plain": [
       "['PoolQC', 'MiscFeature', 'Alley', 'Fence']"
      ]
     },
     "execution_count": 6,
     "metadata": {},
     "output_type": "execute_result"
    }
   ],
   "source": [
    "threshold = 80\n",
    "drop_cols = house_miss[house_miss['% of Total Values'] > threshold].index.tolist()\n",
    "drop_cols"
   ]
  },
  {
   "cell_type": "code",
   "execution_count": 7,
   "id": "84f8a42b",
   "metadata": {
    "execution": {
     "iopub.execute_input": "2021-07-29T02:38:51.205951Z",
     "iopub.status.busy": "2021-07-29T02:38:51.205357Z",
     "iopub.status.idle": "2021-07-29T02:38:51.209514Z",
     "shell.execute_reply": "2021-07-29T02:38:51.209069Z",
     "shell.execute_reply.started": "2021-07-29T02:32:55.521585Z"
    },
    "papermill": {
     "duration": 0.065687,
     "end_time": "2021-07-29T02:38:51.209639",
     "exception": false,
     "start_time": "2021-07-29T02:38:51.143952",
     "status": "completed"
    },
    "tags": []
   },
   "outputs": [
    {
     "data": {
      "text/plain": [
       "(1460, 77)"
      ]
     },
     "execution_count": 7,
     "metadata": {},
     "output_type": "execute_result"
    }
   ],
   "source": [
    "house = house.drop(columns=drop_cols)\n",
    "house.shape"
   ]
  },
  {
   "cell_type": "markdown",
   "id": "17995de6",
   "metadata": {
    "papermill": {
     "duration": 0.054434,
     "end_time": "2021-07-29T02:38:51.319028",
     "exception": false,
     "start_time": "2021-07-29T02:38:51.264594",
     "status": "completed"
    },
    "tags": []
   },
   "source": [
    "* Advantage\n",
    "1. Less number of features\n",
    "1. model training faster\n",
    "\n",
    "* Disadvantage\n",
    "1. We might loose some information"
   ]
  },
  {
   "cell_type": "markdown",
   "id": "d0d6879d",
   "metadata": {
    "papermill": {
     "duration": 0.054493,
     "end_time": "2021-07-29T02:38:51.428015",
     "exception": false,
     "start_time": "2021-07-29T02:38:51.373522",
     "status": "completed"
    },
    "tags": []
   },
   "source": [
    "## Row delete"
   ]
  },
  {
   "cell_type": "code",
   "execution_count": 8,
   "id": "fcb7c320",
   "metadata": {
    "execution": {
     "iopub.execute_input": "2021-07-29T02:38:51.573901Z",
     "iopub.status.busy": "2021-07-29T02:38:51.573340Z",
     "iopub.status.idle": "2021-07-29T02:38:51.594496Z",
     "shell.execute_reply": "2021-07-29T02:38:51.593819Z",
     "shell.execute_reply.started": "2021-07-29T02:32:55.537645Z"
    },
    "papermill": {
     "duration": 0.102118,
     "end_time": "2021-07-29T02:38:51.594685",
     "exception": false,
     "start_time": "2021-07-29T02:38:51.492567",
     "status": "completed"
    },
    "tags": []
   },
   "outputs": [
    {
     "name": "stdout",
     "output_type": "stream",
     "text": [
      "Your selected dataframe has 77 columns.\n",
      "There are 15 columns that have missing values.\n"
     ]
    },
    {
     "data": {
      "text/html": [
       "<div>\n",
       "<style scoped>\n",
       "    .dataframe tbody tr th:only-of-type {\n",
       "        vertical-align: middle;\n",
       "    }\n",
       "\n",
       "    .dataframe tbody tr th {\n",
       "        vertical-align: top;\n",
       "    }\n",
       "\n",
       "    .dataframe thead th {\n",
       "        text-align: right;\n",
       "    }\n",
       "</style>\n",
       "<table border=\"1\" class=\"dataframe\">\n",
       "  <thead>\n",
       "    <tr style=\"text-align: right;\">\n",
       "      <th></th>\n",
       "      <th>Missing Values</th>\n",
       "      <th>% of Total Values</th>\n",
       "      <th>Data Types</th>\n",
       "    </tr>\n",
       "  </thead>\n",
       "  <tbody>\n",
       "    <tr>\n",
       "      <th>FireplaceQu</th>\n",
       "      <td>690</td>\n",
       "      <td>47.3</td>\n",
       "      <td>object</td>\n",
       "    </tr>\n",
       "    <tr>\n",
       "      <th>LotFrontage</th>\n",
       "      <td>259</td>\n",
       "      <td>17.7</td>\n",
       "      <td>float64</td>\n",
       "    </tr>\n",
       "    <tr>\n",
       "      <th>GarageType</th>\n",
       "      <td>81</td>\n",
       "      <td>5.5</td>\n",
       "      <td>object</td>\n",
       "    </tr>\n",
       "    <tr>\n",
       "      <th>GarageYrBlt</th>\n",
       "      <td>81</td>\n",
       "      <td>5.5</td>\n",
       "      <td>float64</td>\n",
       "    </tr>\n",
       "    <tr>\n",
       "      <th>GarageFinish</th>\n",
       "      <td>81</td>\n",
       "      <td>5.5</td>\n",
       "      <td>object</td>\n",
       "    </tr>\n",
       "    <tr>\n",
       "      <th>GarageQual</th>\n",
       "      <td>81</td>\n",
       "      <td>5.5</td>\n",
       "      <td>object</td>\n",
       "    </tr>\n",
       "    <tr>\n",
       "      <th>GarageCond</th>\n",
       "      <td>81</td>\n",
       "      <td>5.5</td>\n",
       "      <td>object</td>\n",
       "    </tr>\n",
       "    <tr>\n",
       "      <th>BsmtExposure</th>\n",
       "      <td>38</td>\n",
       "      <td>2.6</td>\n",
       "      <td>object</td>\n",
       "    </tr>\n",
       "    <tr>\n",
       "      <th>BsmtFinType2</th>\n",
       "      <td>38</td>\n",
       "      <td>2.6</td>\n",
       "      <td>object</td>\n",
       "    </tr>\n",
       "    <tr>\n",
       "      <th>BsmtQual</th>\n",
       "      <td>37</td>\n",
       "      <td>2.5</td>\n",
       "      <td>object</td>\n",
       "    </tr>\n",
       "    <tr>\n",
       "      <th>BsmtCond</th>\n",
       "      <td>37</td>\n",
       "      <td>2.5</td>\n",
       "      <td>object</td>\n",
       "    </tr>\n",
       "    <tr>\n",
       "      <th>BsmtFinType1</th>\n",
       "      <td>37</td>\n",
       "      <td>2.5</td>\n",
       "      <td>object</td>\n",
       "    </tr>\n",
       "    <tr>\n",
       "      <th>MasVnrType</th>\n",
       "      <td>8</td>\n",
       "      <td>0.5</td>\n",
       "      <td>object</td>\n",
       "    </tr>\n",
       "    <tr>\n",
       "      <th>MasVnrArea</th>\n",
       "      <td>8</td>\n",
       "      <td>0.5</td>\n",
       "      <td>float64</td>\n",
       "    </tr>\n",
       "    <tr>\n",
       "      <th>Electrical</th>\n",
       "      <td>1</td>\n",
       "      <td>0.1</td>\n",
       "      <td>object</td>\n",
       "    </tr>\n",
       "  </tbody>\n",
       "</table>\n",
       "</div>"
      ],
      "text/plain": [
       "              Missing Values  % of Total Values Data Types\n",
       "FireplaceQu              690               47.3     object\n",
       "LotFrontage              259               17.7    float64\n",
       "GarageType                81                5.5     object\n",
       "GarageYrBlt               81                5.5    float64\n",
       "GarageFinish              81                5.5     object\n",
       "GarageQual                81                5.5     object\n",
       "GarageCond                81                5.5     object\n",
       "BsmtExposure              38                2.6     object\n",
       "BsmtFinType2              38                2.6     object\n",
       "BsmtQual                  37                2.5     object\n",
       "BsmtCond                  37                2.5     object\n",
       "BsmtFinType1              37                2.5     object\n",
       "MasVnrType                 8                0.5     object\n",
       "MasVnrArea                 8                0.5    float64\n",
       "Electrical                 1                0.1     object"
      ]
     },
     "execution_count": 8,
     "metadata": {},
     "output_type": "execute_result"
    }
   ],
   "source": [
    "house_miss = missing_values_table(house)\n",
    "house_miss"
   ]
  },
  {
   "cell_type": "markdown",
   "id": "5f4a7b7b",
   "metadata": {
    "papermill": {
     "duration": 0.054848,
     "end_time": "2021-07-29T02:38:51.705154",
     "exception": false,
     "start_time": "2021-07-29T02:38:51.650306",
     "status": "completed"
    },
    "tags": []
   },
   "source": [
    "`MasVnrType`, `MasVnrArea`, `Electrical` In this columns less than `3%` data points are missing so we can directly delete those rows."
   ]
  },
  {
   "cell_type": "code",
   "execution_count": 9,
   "id": "a2721053",
   "metadata": {
    "execution": {
     "iopub.execute_input": "2021-07-29T02:38:51.821944Z",
     "iopub.status.busy": "2021-07-29T02:38:51.821254Z",
     "iopub.status.idle": "2021-07-29T02:38:51.824230Z",
     "shell.execute_reply": "2021-07-29T02:38:51.823684Z",
     "shell.execute_reply.started": "2021-07-29T02:32:55.572299Z"
    },
    "papermill": {
     "duration": 0.063965,
     "end_time": "2021-07-29T02:38:51.824353",
     "exception": false,
     "start_time": "2021-07-29T02:38:51.760388",
     "status": "completed"
    },
    "tags": []
   },
   "outputs": [
    {
     "data": {
      "text/plain": [
       "['BsmtExposure',\n",
       " 'BsmtFinType2',\n",
       " 'BsmtQual',\n",
       " 'BsmtCond',\n",
       " 'BsmtFinType1',\n",
       " 'MasVnrType',\n",
       " 'MasVnrArea',\n",
       " 'Electrical']"
      ]
     },
     "execution_count": 9,
     "metadata": {},
     "output_type": "execute_result"
    }
   ],
   "source": [
    "threshold = 3\n",
    "drop_rows = house_miss[house_miss['% of Total Values'] < threshold].index.tolist()\n",
    "drop_rows"
   ]
  },
  {
   "cell_type": "code",
   "execution_count": 10,
   "id": "a3e9df0f",
   "metadata": {
    "execution": {
     "iopub.execute_input": "2021-07-29T02:38:51.944757Z",
     "iopub.status.busy": "2021-07-29T02:38:51.943947Z",
     "iopub.status.idle": "2021-07-29T02:38:51.947416Z",
     "shell.execute_reply": "2021-07-29T02:38:51.946945Z",
     "shell.execute_reply.started": "2021-07-29T02:32:55.584854Z"
    },
    "papermill": {
     "duration": 0.067195,
     "end_time": "2021-07-29T02:38:51.947534",
     "exception": false,
     "start_time": "2021-07-29T02:38:51.880339",
     "status": "completed"
    },
    "tags": []
   },
   "outputs": [],
   "source": [
    "# This will delete all null rows of `drop_rows` column means this columns  \n",
    "# ['BsmtExposure',\n",
    "#  'BsmtFinType2',\n",
    "#  'BsmtQual',\n",
    "#  'BsmtCond',\n",
    "#  'BsmtFinType1',\n",
    "#  'MasVnrType',\n",
    "#  'MasVnrArea',\n",
    "#  'Electrical']\n",
    "house[drop_rows].dropna(inplace=True)"
   ]
  },
  {
   "cell_type": "code",
   "execution_count": 11,
   "id": "b1ff2904",
   "metadata": {
    "execution": {
     "iopub.execute_input": "2021-07-29T02:38:52.062044Z",
     "iopub.status.busy": "2021-07-29T02:38:52.061464Z",
     "iopub.status.idle": "2021-07-29T02:38:52.063890Z",
     "shell.execute_reply": "2021-07-29T02:38:52.063429Z",
     "shell.execute_reply.started": "2021-07-29T02:32:55.600522Z"
    },
    "papermill": {
     "duration": 0.060912,
     "end_time": "2021-07-29T02:38:52.064020",
     "exception": false,
     "start_time": "2021-07-29T02:38:52.003108",
     "status": "completed"
    },
    "tags": []
   },
   "outputs": [],
   "source": [
    "# Here I will try to show you how to drop null rows from dataset\n",
    "# we can directly delete null values where null values % is too low\n",
    "# or we can fill those null values by other methods"
   ]
  },
  {
   "cell_type": "markdown",
   "id": "f52dacb9",
   "metadata": {
    "execution": {
     "iopub.execute_input": "2021-07-12T01:25:50.973081Z",
     "iopub.status.busy": "2021-07-12T01:25:50.972656Z",
     "iopub.status.idle": "2021-07-12T01:25:50.977341Z",
     "shell.execute_reply": "2021-07-12T01:25:50.976329Z",
     "shell.execute_reply.started": "2021-07-12T01:25:50.973047Z"
    },
    "papermill": {
     "duration": 0.055151,
     "end_time": "2021-07-29T02:38:52.174535",
     "exception": false,
     "start_time": "2021-07-29T02:38:52.119384",
     "status": "completed"
    },
    "tags": []
   },
   "source": [
    "<a id='imputation'></a>\n",
    "# Imputation"
   ]
  },
  {
   "cell_type": "markdown",
   "id": "1cad776f",
   "metadata": {
    "papermill": {
     "duration": 0.055151,
     "end_time": "2021-07-29T02:38:52.285028",
     "exception": false,
     "start_time": "2021-07-29T02:38:52.229877",
     "status": "completed"
    },
    "tags": []
   },
   "source": [
    "1. Mean, Median/Mode replace\n",
    "1. Random Sample\n",
    "1. Arbitary imputation\n",
    "1. Frequent categories imputation\n",
    "1. Capture NaN as new feature\n",
    "1. End of distribution\n",
    "1. Interpolation"
   ]
  },
  {
   "cell_type": "markdown",
   "id": "045487bc",
   "metadata": {
    "papermill": {
     "duration": 0.055283,
     "end_time": "2021-07-29T02:38:52.395544",
     "exception": false,
     "start_time": "2021-07-29T02:38:52.340261",
     "status": "completed"
    },
    "tags": []
   },
   "source": [
    "## Mean, Median\n"
   ]
  },
  {
   "cell_type": "markdown",
   "id": "2fd55dc7",
   "metadata": {
    "papermill": {
     "duration": 0.055427,
     "end_time": "2021-07-29T02:38:52.506478",
     "exception": false,
     "start_time": "2021-07-29T02:38:52.451051",
     "status": "completed"
    },
    "tags": []
   },
   "source": [
    "Replace NaN values by mean or median of column"
   ]
  },
  {
   "cell_type": "code",
   "execution_count": 12,
   "id": "da83903b",
   "metadata": {
    "execution": {
     "iopub.execute_input": "2021-07-29T02:38:52.634195Z",
     "iopub.status.busy": "2021-07-29T02:38:52.633471Z",
     "iopub.status.idle": "2021-07-29T02:38:52.638153Z",
     "shell.execute_reply": "2021-07-29T02:38:52.637712Z",
     "shell.execute_reply.started": "2021-07-29T02:32:55.612226Z"
    },
    "papermill": {
     "duration": 0.076268,
     "end_time": "2021-07-29T02:38:52.638273",
     "exception": false,
     "start_time": "2021-07-29T02:38:52.562005",
     "status": "completed"
    },
    "tags": []
   },
   "outputs": [
    {
     "name": "stdout",
     "output_type": "stream",
     "text": [
      "Your selected dataframe has 12 columns.\n",
      "There are 3 columns that have missing values.\n"
     ]
    },
    {
     "data": {
      "text/html": [
       "<div>\n",
       "<style scoped>\n",
       "    .dataframe tbody tr th:only-of-type {\n",
       "        vertical-align: middle;\n",
       "    }\n",
       "\n",
       "    .dataframe tbody tr th {\n",
       "        vertical-align: top;\n",
       "    }\n",
       "\n",
       "    .dataframe thead th {\n",
       "        text-align: right;\n",
       "    }\n",
       "</style>\n",
       "<table border=\"1\" class=\"dataframe\">\n",
       "  <thead>\n",
       "    <tr style=\"text-align: right;\">\n",
       "      <th></th>\n",
       "      <th>Missing Values</th>\n",
       "      <th>% of Total Values</th>\n",
       "      <th>Data Types</th>\n",
       "    </tr>\n",
       "  </thead>\n",
       "  <tbody>\n",
       "    <tr>\n",
       "      <th>Cabin</th>\n",
       "      <td>687</td>\n",
       "      <td>77.1</td>\n",
       "      <td>object</td>\n",
       "    </tr>\n",
       "    <tr>\n",
       "      <th>Age</th>\n",
       "      <td>177</td>\n",
       "      <td>19.9</td>\n",
       "      <td>float64</td>\n",
       "    </tr>\n",
       "    <tr>\n",
       "      <th>Embarked</th>\n",
       "      <td>2</td>\n",
       "      <td>0.2</td>\n",
       "      <td>object</td>\n",
       "    </tr>\n",
       "  </tbody>\n",
       "</table>\n",
       "</div>"
      ],
      "text/plain": [
       "          Missing Values  % of Total Values Data Types\n",
       "Cabin                687               77.1     object\n",
       "Age                  177               19.9    float64\n",
       "Embarked               2                0.2     object"
      ]
     },
     "execution_count": 12,
     "metadata": {},
     "output_type": "execute_result"
    }
   ],
   "source": [
    "titanic_miss = missing_values_table(titanic)\n",
    "titanic_miss"
   ]
  },
  {
   "cell_type": "markdown",
   "id": "1b81c1be",
   "metadata": {
    "papermill": {
     "duration": 0.055626,
     "end_time": "2021-07-29T02:38:52.750047",
     "exception": false,
     "start_time": "2021-07-29T02:38:52.694421",
     "status": "completed"
    },
    "tags": []
   },
   "source": [
    "* Age has 19.9% values are missing, we can fill them by mean or median"
   ]
  },
  {
   "cell_type": "code",
   "execution_count": 13,
   "id": "d98586bb",
   "metadata": {
    "execution": {
     "iopub.execute_input": "2021-07-29T02:38:52.868822Z",
     "iopub.status.busy": "2021-07-29T02:38:52.868252Z",
     "iopub.status.idle": "2021-07-29T02:38:52.870505Z",
     "shell.execute_reply": "2021-07-29T02:38:52.870895Z",
     "shell.execute_reply.started": "2021-07-29T02:32:55.640910Z"
    },
    "papermill": {
     "duration": 0.065108,
     "end_time": "2021-07-29T02:38:52.871062",
     "exception": false,
     "start_time": "2021-07-29T02:38:52.805954",
     "status": "completed"
    },
    "tags": []
   },
   "outputs": [],
   "source": [
    "age_mean = titanic.Age.mean()\n",
    "age_median = titanic.Age.median()\n",
    "titanic['age_mean'] = titanic.Age.fillna(age_mean)\n",
    "titanic['age_median'] = titanic.Age.fillna(age_median)"
   ]
  },
  {
   "cell_type": "code",
   "execution_count": 14,
   "id": "4c13aa6f",
   "metadata": {
    "execution": {
     "iopub.execute_input": "2021-07-29T02:38:53.013856Z",
     "iopub.status.busy": "2021-07-29T02:38:53.010603Z",
     "iopub.status.idle": "2021-07-29T02:38:53.349190Z",
     "shell.execute_reply": "2021-07-29T02:38:53.349576Z",
     "shell.execute_reply.started": "2021-07-29T02:32:55.648836Z"
    },
    "papermill": {
     "duration": 0.422433,
     "end_time": "2021-07-29T02:38:53.349777",
     "exception": false,
     "start_time": "2021-07-29T02:38:52.927344",
     "status": "completed"
    },
    "tags": []
   },
   "outputs": [
    {
     "data": {
      "text/plain": [
       "<matplotlib.legend.Legend at 0x7f14a5d6d050>"
      ]
     },
     "execution_count": 14,
     "metadata": {},
     "output_type": "execute_result"
    },
    {
     "data": {
      "image/png": "[encoded data removed]",
      "text/plain": [
       "<Figure size 432x288 with 1 Axes>"
      ]
     },
     "metadata": {},
     "output_type": "display_data"
    }
   ],
   "source": [
    "sns.kdeplot(titanic['age_mean'],color='red',label='Mean')\n",
    "sns.kdeplot(titanic['age_median'],color='blue',label='Median')\n",
    "sns.kdeplot(titanic['Age'],color='black',label='Original')\n",
    "plt.legend()"
   ]
  },
  {
   "cell_type": "markdown",
   "id": "a678fb5c",
   "metadata": {
    "papermill": {
     "duration": 0.057438,
     "end_time": "2021-07-29T02:38:53.464727",
     "exception": false,
     "start_time": "2021-07-29T02:38:53.407289",
     "status": "completed"
    },
    "tags": []
   },
   "source": [
    "* Red is mean fill na distribution\n",
    "* Blue is median fill na distribution\n",
    "* Black is original values\n",
    "\n",
    "We can observe the distribution of data change after we do fillna using median or mean"
   ]
  },
  {
   "cell_type": "code",
   "execution_count": 15,
   "id": "78fac2b0",
   "metadata": {
    "execution": {
     "iopub.execute_input": "2021-07-29T02:38:53.605937Z",
     "iopub.status.busy": "2021-07-29T02:38:53.589404Z",
     "iopub.status.idle": "2021-07-29T02:38:53.814983Z",
     "shell.execute_reply": "2021-07-29T02:38:53.815364Z",
     "shell.execute_reply.started": "2021-07-29T02:32:55.887906Z"
    },
    "papermill": {
     "duration": 0.292512,
     "end_time": "2021-07-29T02:38:53.815535",
     "exception": false,
     "start_time": "2021-07-29T02:38:53.523023",
     "status": "completed"
    },
    "tags": []
   },
   "outputs": [
    {
     "data": {
      "text/plain": [
       "<matplotlib.legend.Legend at 0x7f14a5c96710>"
      ]
     },
     "execution_count": 15,
     "metadata": {},
     "output_type": "execute_result"
    },
    {
     "data": {
      "image/png": "[encoded data removed]",
      "text/plain": [
       "<Figure size 432x288 with 1 Axes>"
      ]
     },
     "metadata": {},
     "output_type": "display_data"
    }
   ],
   "source": [
    "LotFrontage_mean = house.LotFrontage.mean()\n",
    "LotFrontage_median = house.LotFrontage.median()\n",
    "house['LotFrontage_mean'] = house.LotFrontage.fillna(LotFrontage_mean)\n",
    "house['LotFrontage_median'] = house.LotFrontage.fillna(LotFrontage_median)\n",
    "\n",
    "sns.kdeplot(house['LotFrontage_mean'],color='red',label='Mean')\n",
    "sns.kdeplot(house['LotFrontage_median'],color='blue',label='Median')\n",
    "sns.kdeplot(house['LotFrontage'],color='black',label='Original')\n",
    "plt.legend()"
   ]
  },
  {
   "cell_type": "markdown",
   "id": "1434a5bb",
   "metadata": {
    "papermill": {
     "duration": 0.060167,
     "end_time": "2021-07-29T02:38:53.935013",
     "exception": false,
     "start_time": "2021-07-29T02:38:53.874846",
     "status": "completed"
    },
    "tags": []
   },
   "source": [
    "* Advantage\n",
    "1. Robust to outliers\n",
    "1. Faster way\n",
    "\n",
    "* Disadvantage\n",
    "1. Impact on correlation\n",
    "1. May change or Distortion in distribution of data points\n"
   ]
  },
  {
   "cell_type": "markdown",
   "id": "6f88cce8",
   "metadata": {
    "papermill": {
     "duration": 0.05847,
     "end_time": "2021-07-29T02:38:54.052206",
     "exception": false,
     "start_time": "2021-07-29T02:38:53.993736",
     "status": "completed"
    },
    "tags": []
   },
   "source": [
    "## Random Sample"
   ]
  },
  {
   "cell_type": "markdown",
   "id": "d23dea58",
   "metadata": {
    "papermill": {
     "duration": 0.058665,
     "end_time": "2021-07-29T02:38:54.169905",
     "exception": false,
     "start_time": "2021-07-29T02:38:54.111240",
     "status": "completed"
    },
    "tags": []
   },
   "source": [
    "Replace NaN values by taking random values from column"
   ]
  },
  {
   "cell_type": "code",
   "execution_count": 16,
   "id": "ac4e8cd5",
   "metadata": {
    "execution": {
     "iopub.execute_input": "2021-07-29T02:38:54.290277Z",
     "iopub.status.busy": "2021-07-29T02:38:54.289727Z",
     "iopub.status.idle": "2021-07-29T02:38:54.294583Z",
     "shell.execute_reply": "2021-07-29T02:38:54.295023Z",
     "shell.execute_reply.started": "2021-07-29T02:32:56.140243Z"
    },
    "papermill": {
     "duration": 0.066602,
     "end_time": "2021-07-29T02:38:54.295174",
     "exception": false,
     "start_time": "2021-07-29T02:38:54.228572",
     "status": "completed"
    },
    "tags": []
   },
   "outputs": [],
   "source": [
    "def random_rep(df,field):\n",
    "     df[field+\"_random\"]=df[field]\n",
    "     # random value to fill the na\n",
    "     random_value=df[field].dropna().sample(df[field].isnull().sum(),random_state=0)\n",
    "     #pandas need to have same index in order to merge the dataset\n",
    "     random_value.index=df[df[field].isnull()].index\n",
    "     df.loc[df[field].isnull(),field+'_random']=random_sample"
   ]
  },
  {
   "cell_type": "code",
   "execution_count": 17,
   "id": "e4465cce",
   "metadata": {
    "execution": {
     "iopub.execute_input": "2021-07-29T02:38:54.421547Z",
     "iopub.status.busy": "2021-07-29T02:38:54.420888Z",
     "iopub.status.idle": "2021-07-29T02:38:54.423286Z",
     "shell.execute_reply": "2021-07-29T02:38:54.423715Z",
     "shell.execute_reply.started": "2021-07-29T02:32:56.148661Z"
    },
    "papermill": {
     "duration": 0.069582,
     "end_time": "2021-07-29T02:38:54.423870",
     "exception": false,
     "start_time": "2021-07-29T02:38:54.354288",
     "status": "completed"
    },
    "tags": []
   },
   "outputs": [
    {
     "data": {
      "text/plain": [
       "746    16.0\n",
       "271    25.0\n",
       "189    36.0\n",
       "646    19.0\n",
       "631    51.0\n",
       "       ... \n",
       "661    40.0\n",
       "90     29.0\n",
       "142    24.0\n",
       "67     19.0\n",
       "314    43.0\n",
       "Name: Age, Length: 177, dtype: float64"
      ]
     },
     "execution_count": 17,
     "metadata": {},
     "output_type": "execute_result"
    }
   ],
   "source": [
    "titanic['Age'].dropna().sample(titanic['Age'].isnull().sum())"
   ]
  },
  {
   "cell_type": "code",
   "execution_count": 18,
   "id": "169533e4",
   "metadata": {
    "execution": {
     "iopub.execute_input": "2021-07-29T02:38:54.545272Z",
     "iopub.status.busy": "2021-07-29T02:38:54.544714Z",
     "iopub.status.idle": "2021-07-29T02:38:54.550621Z",
     "shell.execute_reply": "2021-07-29T02:38:54.551107Z",
     "shell.execute_reply.started": "2021-07-29T02:32:56.174704Z"
    },
    "papermill": {
     "duration": 0.068245,
     "end_time": "2021-07-29T02:38:54.551262",
     "exception": false,
     "start_time": "2021-07-29T02:38:54.483017",
     "status": "completed"
    },
    "tags": []
   },
   "outputs": [
    {
     "data": {
      "text/plain": [
       "0      22.0\n",
       "1      38.0\n",
       "2      26.0\n",
       "3      35.0\n",
       "4      35.0\n",
       "       ... \n",
       "886    27.0\n",
       "887    19.0\n",
       "888     NaN\n",
       "889    26.0\n",
       "890    32.0\n",
       "Name: Age, Length: 891, dtype: float64"
      ]
     },
     "execution_count": 18,
     "metadata": {},
     "output_type": "execute_result"
    }
   ],
   "source": [
    "titanic['Age']"
   ]
  },
  {
   "cell_type": "code",
   "execution_count": 19,
   "id": "846c7cf1",
   "metadata": {
    "execution": {
     "iopub.execute_input": "2021-07-29T02:38:54.673327Z",
     "iopub.status.busy": "2021-07-29T02:38:54.672775Z",
     "iopub.status.idle": "2021-07-29T02:38:54.678161Z",
     "shell.execute_reply": "2021-07-29T02:38:54.678564Z",
     "shell.execute_reply.started": "2021-07-29T02:32:56.190918Z"
    },
    "papermill": {
     "duration": 0.067691,
     "end_time": "2021-07-29T02:38:54.678741",
     "exception": false,
     "start_time": "2021-07-29T02:38:54.611050",
     "status": "completed"
    },
    "tags": []
   },
   "outputs": [],
   "source": [
    "random_sample = titanic['Age'].dropna().sample(titanic['Age'].isnull().sum(),random_state=0)\n",
    "random_sample.index=titanic[titanic['Age'].isnull()].index"
   ]
  },
  {
   "cell_type": "code",
   "execution_count": 20,
   "id": "b1021160",
   "metadata": {
    "execution": {
     "iopub.execute_input": "2021-07-29T02:38:54.801299Z",
     "iopub.status.busy": "2021-07-29T02:38:54.800752Z",
     "iopub.status.idle": "2021-07-29T02:38:54.806679Z",
     "shell.execute_reply": "2021-07-29T02:38:54.807114Z",
     "shell.execute_reply.started": "2021-07-29T02:32:56.204943Z"
    },
    "papermill": {
     "duration": 0.068672,
     "end_time": "2021-07-29T02:38:54.807269",
     "exception": false,
     "start_time": "2021-07-29T02:38:54.738597",
     "status": "completed"
    },
    "tags": []
   },
   "outputs": [
    {
     "data": {
      "text/plain": [
       "5      28.00\n",
       "17     50.00\n",
       "19      0.92\n",
       "26     36.00\n",
       "28     26.00\n",
       "       ...  \n",
       "859    22.00\n",
       "863    25.00\n",
       "868    15.00\n",
       "878    34.00\n",
       "888    15.00\n",
       "Name: Age, Length: 177, dtype: float64"
      ]
     },
     "execution_count": 20,
     "metadata": {},
     "output_type": "execute_result"
    }
   ],
   "source": [
    "random_sample"
   ]
  },
  {
   "cell_type": "code",
   "execution_count": 21,
   "id": "e609581c",
   "metadata": {
    "execution": {
     "iopub.execute_input": "2021-07-29T02:38:54.929492Z",
     "iopub.status.busy": "2021-07-29T02:38:54.928958Z",
     "iopub.status.idle": "2021-07-29T02:38:54.933816Z",
     "shell.execute_reply": "2021-07-29T02:38:54.934230Z",
     "shell.execute_reply.started": "2021-07-29T02:32:56.217975Z"
    },
    "papermill": {
     "duration": 0.067394,
     "end_time": "2021-07-29T02:38:54.934377",
     "exception": false,
     "start_time": "2021-07-29T02:38:54.866983",
     "status": "completed"
    },
    "tags": []
   },
   "outputs": [],
   "source": [
    "titanic.loc[titanic['Age'].isnull(),'Age'+'_random']=random_sample"
   ]
  },
  {
   "cell_type": "code",
   "execution_count": 22,
   "id": "4af1db6c",
   "metadata": {
    "execution": {
     "iopub.execute_input": "2021-07-29T02:38:55.057885Z",
     "iopub.status.busy": "2021-07-29T02:38:55.057321Z",
     "iopub.status.idle": "2021-07-29T02:38:55.063285Z",
     "shell.execute_reply": "2021-07-29T02:38:55.063711Z",
     "shell.execute_reply.started": "2021-07-29T02:32:56.233193Z"
    },
    "papermill": {
     "duration": 0.069471,
     "end_time": "2021-07-29T02:38:55.063861",
     "exception": false,
     "start_time": "2021-07-29T02:38:54.994390",
     "status": "completed"
    },
    "tags": []
   },
   "outputs": [
    {
     "data": {
      "text/plain": [
       "0       NaN\n",
       "1       NaN\n",
       "2       NaN\n",
       "3       NaN\n",
       "4       NaN\n",
       "       ... \n",
       "886     NaN\n",
       "887     NaN\n",
       "888    15.0\n",
       "889     NaN\n",
       "890     NaN\n",
       "Name: Age_random, Length: 891, dtype: float64"
      ]
     },
     "execution_count": 22,
     "metadata": {},
     "output_type": "execute_result"
    }
   ],
   "source": [
    "titanic['Age_random']"
   ]
  },
  {
   "cell_type": "markdown",
   "id": "e8c2bdee",
   "metadata": {
    "papermill": {
     "duration": 0.061531,
     "end_time": "2021-07-29T02:38:55.185746",
     "exception": false,
     "start_time": "2021-07-29T02:38:55.124215",
     "status": "completed"
    },
    "tags": []
   },
   "source": [
    "## Arbitary imputation"
   ]
  },
  {
   "cell_type": "markdown",
   "id": "30dfaa3d",
   "metadata": {
    "papermill": {
     "duration": 0.059837,
     "end_time": "2021-07-29T02:38:55.305755",
     "exception": false,
     "start_time": "2021-07-29T02:38:55.245918",
     "status": "completed"
    },
    "tags": []
   },
   "source": [
    "It is defined as replacing all occurrences of missing values within a variable by an arbitrary value. Ideally the value should be different from the median/mean/mode, and not within the normal range of the variable."
   ]
  },
  {
   "cell_type": "code",
   "execution_count": 23,
   "id": "06a14621",
   "metadata": {
    "execution": {
     "iopub.execute_input": "2021-07-29T02:38:55.428565Z",
     "iopub.status.busy": "2021-07-29T02:38:55.428027Z",
     "iopub.status.idle": "2021-07-29T02:38:55.445312Z",
     "shell.execute_reply": "2021-07-29T02:38:55.444893Z",
     "shell.execute_reply.started": "2021-07-29T02:32:56.251448Z"
    },
    "papermill": {
     "duration": 0.079557,
     "end_time": "2021-07-29T02:38:55.445440",
     "exception": false,
     "start_time": "2021-07-29T02:38:55.365883",
     "status": "completed"
    },
    "tags": []
   },
   "outputs": [
    {
     "name": "stdout",
     "output_type": "stream",
     "text": [
      "Your selected dataframe has 15 columns.\n",
      "There are 4 columns that have missing values.\n"
     ]
    },
    {
     "data": {
      "text/html": [
       "<div>\n",
       "<style scoped>\n",
       "    .dataframe tbody tr th:only-of-type {\n",
       "        vertical-align: middle;\n",
       "    }\n",
       "\n",
       "    .dataframe tbody tr th {\n",
       "        vertical-align: top;\n",
       "    }\n",
       "\n",
       "    .dataframe thead th {\n",
       "        text-align: right;\n",
       "    }\n",
       "</style>\n",
       "<table border=\"1\" class=\"dataframe\">\n",
       "  <thead>\n",
       "    <tr style=\"text-align: right;\">\n",
       "      <th></th>\n",
       "      <th>Missing Values</th>\n",
       "      <th>% of Total Values</th>\n",
       "      <th>Data Types</th>\n",
       "    </tr>\n",
       "  </thead>\n",
       "  <tbody>\n",
       "    <tr>\n",
       "      <th>Age_random</th>\n",
       "      <td>714</td>\n",
       "      <td>80.1</td>\n",
       "      <td>float64</td>\n",
       "    </tr>\n",
       "    <tr>\n",
       "      <th>Cabin</th>\n",
       "      <td>687</td>\n",
       "      <td>77.1</td>\n",
       "      <td>object</td>\n",
       "    </tr>\n",
       "    <tr>\n",
       "      <th>Age</th>\n",
       "      <td>177</td>\n",
       "      <td>19.9</td>\n",
       "      <td>float64</td>\n",
       "    </tr>\n",
       "    <tr>\n",
       "      <th>Embarked</th>\n",
       "      <td>2</td>\n",
       "      <td>0.2</td>\n",
       "      <td>object</td>\n",
       "    </tr>\n",
       "  </tbody>\n",
       "</table>\n",
       "</div>"
      ],
      "text/plain": [
       "            Missing Values  % of Total Values Data Types\n",
       "Age_random             714               80.1    float64\n",
       "Cabin                  687               77.1     object\n",
       "Age                    177               19.9    float64\n",
       "Embarked                 2                0.2     object"
      ]
     },
     "execution_count": 23,
     "metadata": {},
     "output_type": "execute_result"
    }
   ],
   "source": [
    "missing_values_table(titanic)"
   ]
  },
  {
   "cell_type": "code",
   "execution_count": 24,
   "id": "811a858b",
   "metadata": {
    "execution": {
     "iopub.execute_input": "2021-07-29T02:38:55.616481Z",
     "iopub.status.busy": "2021-07-29T02:38:55.615941Z",
     "iopub.status.idle": "2021-07-29T02:38:55.618222Z",
     "shell.execute_reply": "2021-07-29T02:38:55.618683Z",
     "shell.execute_reply.started": "2021-07-29T02:32:56.282276Z"
    },
    "papermill": {
     "duration": 0.113358,
     "end_time": "2021-07-29T02:38:55.618849",
     "exception": false,
     "start_time": "2021-07-29T02:38:55.505491",
     "status": "completed"
    },
    "tags": []
   },
   "outputs": [],
   "source": [
    "titanic['Age_arbitary'] = titanic['Age'].fillna(-999)"
   ]
  },
  {
   "cell_type": "code",
   "execution_count": 25,
   "id": "8cfb8dee",
   "metadata": {
    "execution": {
     "iopub.execute_input": "2021-07-29T02:38:55.742543Z",
     "iopub.status.busy": "2021-07-29T02:38:55.741991Z",
     "iopub.status.idle": "2021-07-29T02:38:55.939673Z",
     "shell.execute_reply": "2021-07-29T02:38:55.939111Z",
     "shell.execute_reply.started": "2021-07-29T02:32:56.290000Z"
    },
    "papermill": {
     "duration": 0.26024,
     "end_time": "2021-07-29T02:38:55.939802",
     "exception": false,
     "start_time": "2021-07-29T02:38:55.679562",
     "status": "completed"
    },
    "tags": []
   },
   "outputs": [
    {
     "data": {
      "text/plain": [
       "<matplotlib.legend.Legend at 0x7f1493a97610>"
      ]
     },
     "execution_count": 25,
     "metadata": {},
     "output_type": "execute_result"
    },
    {
     "data": {
      "image/png": "[encoded data removed]",
      "text/plain": [
       "<Figure size 432x288 with 1 Axes>"
      ]
     },
     "metadata": {},
     "output_type": "display_data"
    }
   ],
   "source": [
    "sns.kdeplot(titanic['Age_arbitary'],color='red',label='Age_arbitary')\n",
    "sns.kdeplot(titanic['Age'],color='blue',label='Age')\n",
    "plt.legend()"
   ]
  },
  {
   "cell_type": "markdown",
   "id": "24d2fc57",
   "metadata": {
    "papermill": {
     "duration": 0.061672,
     "end_time": "2021-07-29T02:38:56.063804",
     "exception": false,
     "start_time": "2021-07-29T02:38:56.002132",
     "status": "completed"
    },
    "tags": []
   },
   "source": [
    "Advantages\n",
    "1.  It’s a fast way to obtain complete datasets.\n",
    "1.  It captures the importance of a value being “missing”, if there is one.\n",
    "\n",
    "Disadvantage\n",
    "\n",
    "1. Distortion of the original variable distribution and variance.\n",
    "1. Distortion of the covariance with the remaining dataset variables.\n",
    "1. If the arbitrary value is at the end of the distribution, it may mask or create outliers.\n",
    "1. We need to be careful not to choose an arbitrary value too similar to the mean or median (or any other typical value of the variable distribution).\n",
    "1. The higher the percentage of NA, the higher the distortions."
   ]
  },
  {
   "cell_type": "markdown",
   "id": "e7406110",
   "metadata": {
    "papermill": {
     "duration": 0.061703,
     "end_time": "2021-07-29T02:38:56.187168",
     "exception": false,
     "start_time": "2021-07-29T02:38:56.125465",
     "status": "completed"
    },
    "tags": []
   },
   "source": [
    "## Frequent categories imputation"
   ]
  },
  {
   "cell_type": "markdown",
   "id": "48531633",
   "metadata": {
    "papermill": {
     "duration": 0.061156,
     "end_time": "2021-07-29T02:38:56.309914",
     "exception": false,
     "start_time": "2021-07-29T02:38:56.248758",
     "status": "completed"
    },
    "tags": []
   },
   "source": [
    "It is use for Categorical Features"
   ]
  },
  {
   "cell_type": "code",
   "execution_count": 26,
   "id": "1d912e4a",
   "metadata": {
    "execution": {
     "iopub.execute_input": "2021-07-29T02:38:56.441370Z",
     "iopub.status.busy": "2021-07-29T02:38:56.440816Z",
     "iopub.status.idle": "2021-07-29T02:38:56.461437Z",
     "shell.execute_reply": "2021-07-29T02:38:56.460947Z",
     "shell.execute_reply.started": "2021-07-29T02:32:56.639747Z"
    },
    "papermill": {
     "duration": 0.090105,
     "end_time": "2021-07-29T02:38:56.461564",
     "exception": false,
     "start_time": "2021-07-29T02:38:56.371459",
     "status": "completed"
    },
    "tags": []
   },
   "outputs": [
    {
     "name": "stdout",
     "output_type": "stream",
     "text": [
      "Your selected dataframe has 79 columns.\n",
      "There are 15 columns that have missing values.\n"
     ]
    },
    {
     "data": {
      "text/html": [
       "<div>\n",
       "<style scoped>\n",
       "    .dataframe tbody tr th:only-of-type {\n",
       "        vertical-align: middle;\n",
       "    }\n",
       "\n",
       "    .dataframe tbody tr th {\n",
       "        vertical-align: top;\n",
       "    }\n",
       "\n",
       "    .dataframe thead th {\n",
       "        text-align: right;\n",
       "    }\n",
       "</style>\n",
       "<table border=\"1\" class=\"dataframe\">\n",
       "  <thead>\n",
       "    <tr style=\"text-align: right;\">\n",
       "      <th></th>\n",
       "      <th>Missing Values</th>\n",
       "      <th>% of Total Values</th>\n",
       "      <th>Data Types</th>\n",
       "    </tr>\n",
       "  </thead>\n",
       "  <tbody>\n",
       "    <tr>\n",
       "      <th>FireplaceQu</th>\n",
       "      <td>690</td>\n",
       "      <td>47.3</td>\n",
       "      <td>object</td>\n",
       "    </tr>\n",
       "    <tr>\n",
       "      <th>LotFrontage</th>\n",
       "      <td>259</td>\n",
       "      <td>17.7</td>\n",
       "      <td>float64</td>\n",
       "    </tr>\n",
       "    <tr>\n",
       "      <th>GarageType</th>\n",
       "      <td>81</td>\n",
       "      <td>5.5</td>\n",
       "      <td>object</td>\n",
       "    </tr>\n",
       "    <tr>\n",
       "      <th>GarageYrBlt</th>\n",
       "      <td>81</td>\n",
       "      <td>5.5</td>\n",
       "      <td>float64</td>\n",
       "    </tr>\n",
       "    <tr>\n",
       "      <th>GarageFinish</th>\n",
       "      <td>81</td>\n",
       "      <td>5.5</td>\n",
       "      <td>object</td>\n",
       "    </tr>\n",
       "    <tr>\n",
       "      <th>GarageQual</th>\n",
       "      <td>81</td>\n",
       "      <td>5.5</td>\n",
       "      <td>object</td>\n",
       "    </tr>\n",
       "    <tr>\n",
       "      <th>GarageCond</th>\n",
       "      <td>81</td>\n",
       "      <td>5.5</td>\n",
       "      <td>object</td>\n",
       "    </tr>\n",
       "    <tr>\n",
       "      <th>BsmtExposure</th>\n",
       "      <td>38</td>\n",
       "      <td>2.6</td>\n",
       "      <td>object</td>\n",
       "    </tr>\n",
       "    <tr>\n",
       "      <th>BsmtFinType2</th>\n",
       "      <td>38</td>\n",
       "      <td>2.6</td>\n",
       "      <td>object</td>\n",
       "    </tr>\n",
       "    <tr>\n",
       "      <th>BsmtQual</th>\n",
       "      <td>37</td>\n",
       "      <td>2.5</td>\n",
       "      <td>object</td>\n",
       "    </tr>\n",
       "    <tr>\n",
       "      <th>BsmtCond</th>\n",
       "      <td>37</td>\n",
       "      <td>2.5</td>\n",
       "      <td>object</td>\n",
       "    </tr>\n",
       "    <tr>\n",
       "      <th>BsmtFinType1</th>\n",
       "      <td>37</td>\n",
       "      <td>2.5</td>\n",
       "      <td>object</td>\n",
       "    </tr>\n",
       "    <tr>\n",
       "      <th>MasVnrType</th>\n",
       "      <td>8</td>\n",
       "      <td>0.5</td>\n",
       "      <td>object</td>\n",
       "    </tr>\n",
       "    <tr>\n",
       "      <th>MasVnrArea</th>\n",
       "      <td>8</td>\n",
       "      <td>0.5</td>\n",
       "      <td>float64</td>\n",
       "    </tr>\n",
       "    <tr>\n",
       "      <th>Electrical</th>\n",
       "      <td>1</td>\n",
       "      <td>0.1</td>\n",
       "      <td>object</td>\n",
       "    </tr>\n",
       "  </tbody>\n",
       "</table>\n",
       "</div>"
      ],
      "text/plain": [
       "              Missing Values  % of Total Values Data Types\n",
       "FireplaceQu              690               47.3     object\n",
       "LotFrontage              259               17.7    float64\n",
       "GarageType                81                5.5     object\n",
       "GarageYrBlt               81                5.5    float64\n",
       "GarageFinish              81                5.5     object\n",
       "GarageQual                81                5.5     object\n",
       "GarageCond                81                5.5     object\n",
       "BsmtExposure              38                2.6     object\n",
       "BsmtFinType2              38                2.6     object\n",
       "BsmtQual                  37                2.5     object\n",
       "BsmtCond                  37                2.5     object\n",
       "BsmtFinType1              37                2.5     object\n",
       "MasVnrType                 8                0.5     object\n",
       "MasVnrArea                 8                0.5    float64\n",
       "Electrical                 1                0.1     object"
      ]
     },
     "execution_count": 26,
     "metadata": {},
     "output_type": "execute_result"
    }
   ],
   "source": [
    "c_house = missing_values_table(house)\n",
    "c_house"
   ]
  },
  {
   "cell_type": "code",
   "execution_count": 27,
   "id": "eab8cab8",
   "metadata": {
    "execution": {
     "iopub.execute_input": "2021-07-29T02:38:56.720335Z",
     "iopub.status.busy": "2021-07-29T02:38:56.706118Z",
     "iopub.status.idle": "2021-07-29T02:38:57.046783Z",
     "shell.execute_reply": "2021-07-29T02:38:57.047240Z",
     "shell.execute_reply.started": "2021-07-29T02:32:56.669092Z"
    },
    "papermill": {
     "duration": 0.523124,
     "end_time": "2021-07-29T02:38:57.047398",
     "exception": false,
     "start_time": "2021-07-29T02:38:56.524274",
     "status": "completed"
    },
    "tags": []
   },
   "outputs": [
    {
     "data": {
      "text/plain": [
       "<AxesSubplot:>"
      ]
     },
     "execution_count": 27,
     "metadata": {},
     "output_type": "execute_result"
    },
    {
     "data": {
      "image/png": "[encoded data removed]",
      "text/plain": [
       "<Figure size 1080x360 with 3 Axes>"
      ]
     },
     "metadata": {},
     "output_type": "display_data"
    }
   ],
   "source": [
    "fig, axes = plt.subplots(1, 3, figsize=(15, 5), sharey=True)\n",
    "house.FireplaceQu.value_counts().plot.bar(ax=axes[0])\n",
    "house.GarageType.value_counts().plot.bar(ax=axes[1])\n",
    "house.GarageFinish.value_counts().plot.bar(ax=axes[2])"
   ]
  },
  {
   "cell_type": "code",
   "execution_count": 28,
   "id": "7d10cc57",
   "metadata": {
    "execution": {
     "iopub.execute_input": "2021-07-29T02:38:57.177928Z",
     "iopub.status.busy": "2021-07-29T02:38:57.177348Z",
     "iopub.status.idle": "2021-07-29T02:38:57.182240Z",
     "shell.execute_reply": "2021-07-29T02:38:57.182695Z",
     "shell.execute_reply.started": "2021-07-29T02:32:57.037320Z"
    },
    "papermill": {
     "duration": 0.07189,
     "end_time": "2021-07-29T02:38:57.182866",
     "exception": false,
     "start_time": "2021-07-29T02:38:57.110976",
     "status": "completed"
    },
    "tags": []
   },
   "outputs": [
    {
     "data": {
      "text/plain": [
       "'Gd'"
      ]
     },
     "execution_count": 28,
     "metadata": {},
     "output_type": "execute_result"
    }
   ],
   "source": [
    "house.FireplaceQu.mode()[0]"
   ]
  },
  {
   "cell_type": "code",
   "execution_count": 29,
   "id": "0e2a85bc",
   "metadata": {
    "execution": {
     "iopub.execute_input": "2021-07-29T02:38:57.315553Z",
     "iopub.status.busy": "2021-07-29T02:38:57.314983Z",
     "iopub.status.idle": "2021-07-29T02:38:57.320696Z",
     "shell.execute_reply": "2021-07-29T02:38:57.321094Z",
     "shell.execute_reply.started": "2021-07-29T02:32:57.044741Z"
    },
    "papermill": {
     "duration": 0.074422,
     "end_time": "2021-07-29T02:38:57.321253",
     "exception": false,
     "start_time": "2021-07-29T02:38:57.246831",
     "status": "completed"
    },
    "tags": []
   },
   "outputs": [
    {
     "data": {
      "text/plain": [
       "'Attchd'"
      ]
     },
     "execution_count": 29,
     "metadata": {},
     "output_type": "execute_result"
    }
   ],
   "source": [
    "house.GarageType.mode()[0]"
   ]
  },
  {
   "cell_type": "markdown",
   "id": "ed5521b9",
   "metadata": {
    "papermill": {
     "duration": 0.064582,
     "end_time": "2021-07-29T02:38:57.450066",
     "exception": false,
     "start_time": "2021-07-29T02:38:57.385484",
     "status": "completed"
    },
    "tags": []
   },
   "source": [
    "The mode of a set of data values is the value that appears most often."
   ]
  },
  {
   "cell_type": "code",
   "execution_count": 30,
   "id": "a8cd162a",
   "metadata": {
    "execution": {
     "iopub.execute_input": "2021-07-29T02:38:57.584746Z",
     "iopub.status.busy": "2021-07-29T02:38:57.584126Z",
     "iopub.status.idle": "2021-07-29T02:38:57.585836Z",
     "shell.execute_reply": "2021-07-29T02:38:57.586213Z",
     "shell.execute_reply.started": "2021-07-29T02:32:57.062145Z"
    },
    "papermill": {
     "duration": 0.07102,
     "end_time": "2021-07-29T02:38:57.586378",
     "exception": false,
     "start_time": "2021-07-29T02:38:57.515358",
     "status": "completed"
    },
    "tags": []
   },
   "outputs": [],
   "source": [
    "def freq_imp(df,variable):\n",
    "    frq_cat = df[variable].mode()[0]\n",
    "    df[variable].fillna(frq_cat, inplace=True)"
   ]
  },
  {
   "cell_type": "code",
   "execution_count": 31,
   "id": "ae039118",
   "metadata": {
    "execution": {
     "iopub.execute_input": "2021-07-29T02:38:57.718349Z",
     "iopub.status.busy": "2021-07-29T02:38:57.717805Z",
     "iopub.status.idle": "2021-07-29T02:38:57.724216Z",
     "shell.execute_reply": "2021-07-29T02:38:57.723693Z",
     "shell.execute_reply.started": "2021-07-29T02:32:57.076729Z"
    },
    "papermill": {
     "duration": 0.073354,
     "end_time": "2021-07-29T02:38:57.724336",
     "exception": false,
     "start_time": "2021-07-29T02:38:57.650982",
     "status": "completed"
    },
    "tags": []
   },
   "outputs": [
    {
     "data": {
      "text/plain": [
       "['FireplaceQu',\n",
       " 'GarageType',\n",
       " 'GarageFinish',\n",
       " 'GarageQual',\n",
       " 'GarageCond',\n",
       " 'BsmtExposure',\n",
       " 'BsmtFinType2',\n",
       " 'BsmtQual',\n",
       " 'BsmtCond',\n",
       " 'BsmtFinType1',\n",
       " 'MasVnrType',\n",
       " 'Electrical']"
      ]
     },
     "execution_count": 31,
     "metadata": {},
     "output_type": "execute_result"
    }
   ],
   "source": [
    "c_house[c_house['Data Types'] == 'object'].index.tolist()"
   ]
  },
  {
   "cell_type": "code",
   "execution_count": 32,
   "id": "14d34150",
   "metadata": {
    "execution": {
     "iopub.execute_input": "2021-07-29T02:38:57.856528Z",
     "iopub.status.busy": "2021-07-29T02:38:57.855649Z",
     "iopub.status.idle": "2021-07-29T02:38:57.860100Z",
     "shell.execute_reply": "2021-07-29T02:38:57.860492Z",
     "shell.execute_reply.started": "2021-07-29T02:32:57.094883Z"
    },
    "papermill": {
     "duration": 0.071778,
     "end_time": "2021-07-29T02:38:57.860648",
     "exception": false,
     "start_time": "2021-07-29T02:38:57.788870",
     "status": "completed"
    },
    "tags": []
   },
   "outputs": [],
   "source": [
    "cat_columns = c_house[c_house['Data Types'] == 'object'].index.tolist()"
   ]
  },
  {
   "cell_type": "markdown",
   "id": "189e657c",
   "metadata": {
    "papermill": {
     "duration": 0.065794,
     "end_time": "2021-07-29T02:38:57.991682",
     "exception": false,
     "start_time": "2021-07-29T02:38:57.925888",
     "status": "completed"
    },
    "tags": []
   },
   "source": [
    "Create seperate list for missing categorical columns"
   ]
  },
  {
   "cell_type": "code",
   "execution_count": 33,
   "id": "86616a46",
   "metadata": {
    "execution": {
     "iopub.execute_input": "2021-07-29T02:38:58.124966Z",
     "iopub.status.busy": "2021-07-29T02:38:58.124077Z",
     "iopub.status.idle": "2021-07-29T02:38:58.135972Z",
     "shell.execute_reply": "2021-07-29T02:38:58.136375Z",
     "shell.execute_reply.started": "2021-07-29T02:32:57.109228Z"
    },
    "papermill": {
     "duration": 0.080165,
     "end_time": "2021-07-29T02:38:58.136538",
     "exception": false,
     "start_time": "2021-07-29T02:38:58.056373",
     "status": "completed"
    },
    "tags": []
   },
   "outputs": [],
   "source": [
    "for col in cat_columns:\n",
    "    freq_imp(house,col)"
   ]
  },
  {
   "cell_type": "markdown",
   "id": "bb391d94",
   "metadata": {
    "papermill": {
     "duration": 0.064296,
     "end_time": "2021-07-29T02:38:58.265699",
     "exception": false,
     "start_time": "2021-07-29T02:38:58.201403",
     "status": "completed"
    },
    "tags": []
   },
   "source": [
    "Apply function"
   ]
  },
  {
   "cell_type": "code",
   "execution_count": 34,
   "id": "1b53708c",
   "metadata": {
    "execution": {
     "iopub.execute_input": "2021-07-29T02:38:58.398113Z",
     "iopub.status.busy": "2021-07-29T02:38:58.397260Z",
     "iopub.status.idle": "2021-07-29T02:38:58.419615Z",
     "shell.execute_reply": "2021-07-29T02:38:58.420026Z",
     "shell.execute_reply.started": "2021-07-29T02:32:57.133288Z"
    },
    "papermill": {
     "duration": 0.089716,
     "end_time": "2021-07-29T02:38:58.420188",
     "exception": false,
     "start_time": "2021-07-29T02:38:58.330472",
     "status": "completed"
    },
    "tags": []
   },
   "outputs": [
    {
     "name": "stdout",
     "output_type": "stream",
     "text": [
      "Your selected dataframe has 79 columns.\n",
      "There are 3 columns that have missing values.\n"
     ]
    },
    {
     "data": {
      "text/html": [
       "<div>\n",
       "<style scoped>\n",
       "    .dataframe tbody tr th:only-of-type {\n",
       "        vertical-align: middle;\n",
       "    }\n",
       "\n",
       "    .dataframe tbody tr th {\n",
       "        vertical-align: top;\n",
       "    }\n",
       "\n",
       "    .dataframe thead th {\n",
       "        text-align: right;\n",
       "    }\n",
       "</style>\n",
       "<table border=\"1\" class=\"dataframe\">\n",
       "  <thead>\n",
       "    <tr style=\"text-align: right;\">\n",
       "      <th></th>\n",
       "      <th>Missing Values</th>\n",
       "      <th>% of Total Values</th>\n",
       "      <th>Data Types</th>\n",
       "    </tr>\n",
       "  </thead>\n",
       "  <tbody>\n",
       "    <tr>\n",
       "      <th>LotFrontage</th>\n",
       "      <td>259</td>\n",
       "      <td>17.7</td>\n",
       "      <td>float64</td>\n",
       "    </tr>\n",
       "    <tr>\n",
       "      <th>GarageYrBlt</th>\n",
       "      <td>81</td>\n",
       "      <td>5.5</td>\n",
       "      <td>float64</td>\n",
       "    </tr>\n",
       "    <tr>\n",
       "      <th>MasVnrArea</th>\n",
       "      <td>8</td>\n",
       "      <td>0.5</td>\n",
       "      <td>float64</td>\n",
       "    </tr>\n",
       "  </tbody>\n",
       "</table>\n",
       "</div>"
      ],
      "text/plain": [
       "             Missing Values  % of Total Values Data Types\n",
       "LotFrontage             259               17.7    float64\n",
       "GarageYrBlt              81                5.5    float64\n",
       "MasVnrArea                8                0.5    float64"
      ]
     },
     "execution_count": 34,
     "metadata": {},
     "output_type": "execute_result"
    }
   ],
   "source": [
    "missing_values_table(house)"
   ]
  },
  {
   "cell_type": "markdown",
   "id": "9782651a",
   "metadata": {
    "papermill": {
     "duration": 0.064512,
     "end_time": "2021-07-29T02:38:58.550045",
     "exception": false,
     "start_time": "2021-07-29T02:38:58.485533",
     "status": "completed"
    },
    "tags": []
   },
   "source": [
    "Now no NaN values for any categorical feature"
   ]
  },
  {
   "cell_type": "markdown",
   "id": "31ca9598",
   "metadata": {
    "papermill": {
     "duration": 0.064436,
     "end_time": "2021-07-29T02:38:58.679842",
     "exception": false,
     "start_time": "2021-07-29T02:38:58.615406",
     "status": "completed"
    },
    "tags": []
   },
   "source": [
    "Advantages\n",
    "1. Fater way to implement \n",
    "\n",
    "Disadvantages\n",
    "1. Since we are using the more frequent labels, it may use them in an over respresented way, if there are many nan's\n",
    "1. It distorts the relation of the most frequent label"
   ]
  },
  {
   "cell_type": "markdown",
   "id": "6ea9ec6d",
   "metadata": {
    "papermill": {
     "duration": 0.064568,
     "end_time": "2021-07-29T02:38:58.809773",
     "exception": false,
     "start_time": "2021-07-29T02:38:58.745205",
     "status": "completed"
    },
    "tags": []
   },
   "source": [
    "## Capture NaN as New Feature"
   ]
  },
  {
   "cell_type": "markdown",
   "id": "2a090121",
   "metadata": {
    "papermill": {
     "duration": 0.064237,
     "end_time": "2021-07-29T02:38:58.939046",
     "exception": false,
     "start_time": "2021-07-29T02:38:58.874809",
     "status": "completed"
    },
    "tags": []
   },
   "source": [
    "create new column as is values missing or not and then fill missing values"
   ]
  },
  {
   "cell_type": "code",
   "execution_count": 35,
   "id": "71ef2a59",
   "metadata": {
    "execution": {
     "iopub.execute_input": "2021-07-29T02:38:59.074714Z",
     "iopub.status.busy": "2021-07-29T02:38:59.074151Z",
     "iopub.status.idle": "2021-07-29T02:38:59.090367Z",
     "shell.execute_reply": "2021-07-29T02:38:59.089799Z",
     "shell.execute_reply.started": "2021-07-29T02:32:57.176361Z"
    },
    "papermill": {
     "duration": 0.085045,
     "end_time": "2021-07-29T02:38:59.090495",
     "exception": false,
     "start_time": "2021-07-29T02:38:59.005450",
     "status": "completed"
    },
    "tags": []
   },
   "outputs": [
    {
     "data": {
      "text/html": [
       "<div>\n",
       "<style scoped>\n",
       "    .dataframe tbody tr th:only-of-type {\n",
       "        vertical-align: middle;\n",
       "    }\n",
       "\n",
       "    .dataframe tbody tr th {\n",
       "        vertical-align: top;\n",
       "    }\n",
       "\n",
       "    .dataframe thead th {\n",
       "        text-align: right;\n",
       "    }\n",
       "</style>\n",
       "<table border=\"1\" class=\"dataframe\">\n",
       "  <thead>\n",
       "    <tr style=\"text-align: right;\">\n",
       "      <th></th>\n",
       "      <th>GarageType</th>\n",
       "      <th>SalePrice</th>\n",
       "    </tr>\n",
       "  </thead>\n",
       "  <tbody>\n",
       "    <tr>\n",
       "      <th>0</th>\n",
       "      <td>Attchd</td>\n",
       "      <td>208500</td>\n",
       "    </tr>\n",
       "    <tr>\n",
       "      <th>1</th>\n",
       "      <td>Attchd</td>\n",
       "      <td>181500</td>\n",
       "    </tr>\n",
       "    <tr>\n",
       "      <th>2</th>\n",
       "      <td>Attchd</td>\n",
       "      <td>223500</td>\n",
       "    </tr>\n",
       "    <tr>\n",
       "      <th>3</th>\n",
       "      <td>Detchd</td>\n",
       "      <td>140000</td>\n",
       "    </tr>\n",
       "    <tr>\n",
       "      <th>4</th>\n",
       "      <td>Attchd</td>\n",
       "      <td>250000</td>\n",
       "    </tr>\n",
       "  </tbody>\n",
       "</table>\n",
       "</div>"
      ],
      "text/plain": [
       "  GarageType  SalePrice\n",
       "0     Attchd     208500\n",
       "1     Attchd     181500\n",
       "2     Attchd     223500\n",
       "3     Detchd     140000\n",
       "4     Attchd     250000"
      ]
     },
     "execution_count": 35,
     "metadata": {},
     "output_type": "execute_result"
    }
   ],
   "source": [
    "hdf = pd.read_csv('../input/house-prices-advanced-regression-techniques/train.csv',usecols=['GarageType','SalePrice'])\n",
    "hdf.head(5)"
   ]
  },
  {
   "cell_type": "code",
   "execution_count": 36,
   "id": "861ae415",
   "metadata": {
    "execution": {
     "iopub.execute_input": "2021-07-29T02:38:59.226620Z",
     "iopub.status.busy": "2021-07-29T02:38:59.225746Z",
     "iopub.status.idle": "2021-07-29T02:38:59.242058Z",
     "shell.execute_reply": "2021-07-29T02:38:59.242482Z",
     "shell.execute_reply.started": "2021-07-29T02:32:57.199113Z"
    },
    "papermill": {
     "duration": 0.084767,
     "end_time": "2021-07-29T02:38:59.242638",
     "exception": false,
     "start_time": "2021-07-29T02:38:59.157871",
     "status": "completed"
    },
    "tags": []
   },
   "outputs": [
    {
     "name": "stdout",
     "output_type": "stream",
     "text": [
      "Your selected dataframe has 2 columns.\n",
      "There are 1 columns that have missing values.\n"
     ]
    },
    {
     "data": {
      "text/html": [
       "<div>\n",
       "<style scoped>\n",
       "    .dataframe tbody tr th:only-of-type {\n",
       "        vertical-align: middle;\n",
       "    }\n",
       "\n",
       "    .dataframe tbody tr th {\n",
       "        vertical-align: top;\n",
       "    }\n",
       "\n",
       "    .dataframe thead th {\n",
       "        text-align: right;\n",
       "    }\n",
       "</style>\n",
       "<table border=\"1\" class=\"dataframe\">\n",
       "  <thead>\n",
       "    <tr style=\"text-align: right;\">\n",
       "      <th></th>\n",
       "      <th>Missing Values</th>\n",
       "      <th>% of Total Values</th>\n",
       "      <th>Data Types</th>\n",
       "    </tr>\n",
       "  </thead>\n",
       "  <tbody>\n",
       "    <tr>\n",
       "      <th>GarageType</th>\n",
       "      <td>81</td>\n",
       "      <td>5.5</td>\n",
       "      <td>object</td>\n",
       "    </tr>\n",
       "  </tbody>\n",
       "</table>\n",
       "</div>"
      ],
      "text/plain": [
       "            Missing Values  % of Total Values Data Types\n",
       "GarageType              81                5.5     object"
      ]
     },
     "execution_count": 36,
     "metadata": {},
     "output_type": "execute_result"
    }
   ],
   "source": [
    "missing_values_table(hdf)"
   ]
  },
  {
   "cell_type": "code",
   "execution_count": 37,
   "id": "6341b112",
   "metadata": {
    "execution": {
     "iopub.execute_input": "2021-07-29T02:38:59.380323Z",
     "iopub.status.busy": "2021-07-29T02:38:59.379742Z",
     "iopub.status.idle": "2021-07-29T02:38:59.382426Z",
     "shell.execute_reply": "2021-07-29T02:38:59.381979Z",
     "shell.execute_reply.started": "2021-07-29T02:32:57.216915Z"
    },
    "papermill": {
     "duration": 0.073564,
     "end_time": "2021-07-29T02:38:59.382546",
     "exception": false,
     "start_time": "2021-07-29T02:38:59.308982",
     "status": "completed"
    },
    "tags": []
   },
   "outputs": [],
   "source": [
    "hdf['garage_null'] = np.where(hdf['GarageType'].isnull(),1,0)"
   ]
  },
  {
   "cell_type": "markdown",
   "id": "b3f0dcfb",
   "metadata": {
    "papermill": {
     "duration": 0.067008,
     "end_time": "2021-07-29T02:38:59.515382",
     "exception": false,
     "start_time": "2021-07-29T02:38:59.448374",
     "status": "completed"
    },
    "tags": []
   },
   "source": [
    "Create a new column as columnName_null fill with is value missing 1 else 0"
   ]
  },
  {
   "cell_type": "code",
   "execution_count": 38,
   "id": "6b8e4847",
   "metadata": {
    "execution": {
     "iopub.execute_input": "2021-07-29T02:38:59.649210Z",
     "iopub.status.busy": "2021-07-29T02:38:59.648673Z",
     "iopub.status.idle": "2021-07-29T02:38:59.653033Z",
     "shell.execute_reply": "2021-07-29T02:38:59.653465Z",
     "shell.execute_reply.started": "2021-07-29T02:32:57.233490Z"
    },
    "papermill": {
     "duration": 0.072589,
     "end_time": "2021-07-29T02:38:59.653604",
     "exception": false,
     "start_time": "2021-07-29T02:38:59.581015",
     "status": "completed"
    },
    "tags": []
   },
   "outputs": [],
   "source": [
    "hdf['GarageType'] = hdf['GarageType'].fillna(hdf['GarageType'].mode()[0])"
   ]
  },
  {
   "cell_type": "markdown",
   "id": "761a5803",
   "metadata": {
    "papermill": {
     "duration": 0.065374,
     "end_time": "2021-07-29T02:38:59.784870",
     "exception": false,
     "start_time": "2021-07-29T02:38:59.719496",
     "status": "completed"
    },
    "tags": []
   },
   "source": [
    "Fill null values with most frequent value, you can also try with other methods like pput missing values new category"
   ]
  },
  {
   "cell_type": "code",
   "execution_count": 39,
   "id": "33e87c48",
   "metadata": {
    "execution": {
     "iopub.execute_input": "2021-07-29T02:38:59.919371Z",
     "iopub.status.busy": "2021-07-29T02:38:59.918823Z",
     "iopub.status.idle": "2021-07-29T02:38:59.934460Z",
     "shell.execute_reply": "2021-07-29T02:38:59.934045Z",
     "shell.execute_reply.started": "2021-07-29T02:32:57.245808Z"
    },
    "papermill": {
     "duration": 0.083743,
     "end_time": "2021-07-29T02:38:59.934587",
     "exception": false,
     "start_time": "2021-07-29T02:38:59.850844",
     "status": "completed"
    },
    "tags": []
   },
   "outputs": [
    {
     "name": "stdout",
     "output_type": "stream",
     "text": [
      "Your selected dataframe has 3 columns.\n",
      "There are 0 columns that have missing values.\n"
     ]
    },
    {
     "data": {
      "text/html": [
       "<div>\n",
       "<style scoped>\n",
       "    .dataframe tbody tr th:only-of-type {\n",
       "        vertical-align: middle;\n",
       "    }\n",
       "\n",
       "    .dataframe tbody tr th {\n",
       "        vertical-align: top;\n",
       "    }\n",
       "\n",
       "    .dataframe thead th {\n",
       "        text-align: right;\n",
       "    }\n",
       "</style>\n",
       "<table border=\"1\" class=\"dataframe\">\n",
       "  <thead>\n",
       "    <tr style=\"text-align: right;\">\n",
       "      <th></th>\n",
       "      <th>Missing Values</th>\n",
       "      <th>% of Total Values</th>\n",
       "      <th>Data Types</th>\n",
       "    </tr>\n",
       "  </thead>\n",
       "  <tbody>\n",
       "  </tbody>\n",
       "</table>\n",
       "</div>"
      ],
      "text/plain": [
       "Empty DataFrame\n",
       "Columns: [Missing Values, % of Total Values, Data Types]\n",
       "Index: []"
      ]
     },
     "execution_count": 39,
     "metadata": {},
     "output_type": "execute_result"
    }
   ],
   "source": [
    "missing_values_table(hdf)"
   ]
  },
  {
   "cell_type": "code",
   "execution_count": 40,
   "id": "76604358",
   "metadata": {
    "execution": {
     "iopub.execute_input": "2021-07-29T02:39:00.073231Z",
     "iopub.status.busy": "2021-07-29T02:39:00.072679Z",
     "iopub.status.idle": "2021-07-29T02:39:00.075524Z",
     "shell.execute_reply": "2021-07-29T02:39:00.075114Z",
     "shell.execute_reply.started": "2021-07-29T02:32:57.272507Z"
    },
    "papermill": {
     "duration": 0.073269,
     "end_time": "2021-07-29T02:39:00.075644",
     "exception": false,
     "start_time": "2021-07-29T02:39:00.002375",
     "status": "completed"
    },
    "tags": []
   },
   "outputs": [],
   "source": [
    "def nan_new_col(df,variable):\n",
    "    hdf[variable+'_null'] = np.where(hdf[variable].isnull(),1,0)\n",
    "    hdf[variable] = hdf[variable].fillna(hdf[variable].mode()[0])"
   ]
  },
  {
   "cell_type": "markdown",
   "id": "79ae4d09",
   "metadata": {
    "papermill": {
     "duration": 0.066194,
     "end_time": "2021-07-29T02:39:00.208220",
     "exception": false,
     "start_time": "2021-07-29T02:39:00.142026",
     "status": "completed"
    },
    "tags": []
   },
   "source": [
    "Advantage\n",
    "1. Might increase score of model\n",
    "1. we gather information from missing values\n",
    "\n",
    "Disadvantage\n",
    "1. Create more features"
   ]
  },
  {
   "cell_type": "markdown",
   "id": "1b83dfa0",
   "metadata": {
    "papermill": {
     "duration": 0.066229,
     "end_time": "2021-07-29T02:39:00.340728",
     "exception": false,
     "start_time": "2021-07-29T02:39:00.274499",
     "status": "completed"
    },
    "tags": []
   },
   "source": [
    "## Capture NaN as new category"
   ]
  },
  {
   "cell_type": "markdown",
   "id": "737d660b",
   "metadata": {
    "papermill": {
     "duration": 0.066228,
     "end_time": "2021-07-29T02:39:00.473418",
     "exception": false,
     "start_time": "2021-07-29T02:39:00.407190",
     "status": "completed"
    },
    "tags": []
   },
   "source": [
    "we just replace NAN with a new category "
   ]
  },
  {
   "cell_type": "code",
   "execution_count": 41,
   "id": "68f5562d",
   "metadata": {
    "execution": {
     "iopub.execute_input": "2021-07-29T02:39:00.624582Z",
     "iopub.status.busy": "2021-07-29T02:39:00.623983Z",
     "iopub.status.idle": "2021-07-29T02:39:00.627534Z",
     "shell.execute_reply": "2021-07-29T02:39:00.627987Z",
     "shell.execute_reply.started": "2021-07-29T02:32:57.284519Z"
    },
    "papermill": {
     "duration": 0.088154,
     "end_time": "2021-07-29T02:39:00.628147",
     "exception": false,
     "start_time": "2021-07-29T02:39:00.539993",
     "status": "completed"
    },
    "tags": []
   },
   "outputs": [
    {
     "name": "stdout",
     "output_type": "stream",
     "text": [
      "Your selected dataframe has 16 columns.\n",
      "There are 4 columns that have missing values.\n"
     ]
    },
    {
     "data": {
      "text/html": [
       "<div>\n",
       "<style scoped>\n",
       "    .dataframe tbody tr th:only-of-type {\n",
       "        vertical-align: middle;\n",
       "    }\n",
       "\n",
       "    .dataframe tbody tr th {\n",
       "        vertical-align: top;\n",
       "    }\n",
       "\n",
       "    .dataframe thead th {\n",
       "        text-align: right;\n",
       "    }\n",
       "</style>\n",
       "<table border=\"1\" class=\"dataframe\">\n",
       "  <thead>\n",
       "    <tr style=\"text-align: right;\">\n",
       "      <th></th>\n",
       "      <th>Missing Values</th>\n",
       "      <th>% of Total Values</th>\n",
       "      <th>Data Types</th>\n",
       "    </tr>\n",
       "  </thead>\n",
       "  <tbody>\n",
       "    <tr>\n",
       "      <th>Age_random</th>\n",
       "      <td>714</td>\n",
       "      <td>80.1</td>\n",
       "      <td>float64</td>\n",
       "    </tr>\n",
       "    <tr>\n",
       "      <th>Cabin</th>\n",
       "      <td>687</td>\n",
       "      <td>77.1</td>\n",
       "      <td>object</td>\n",
       "    </tr>\n",
       "    <tr>\n",
       "      <th>Age</th>\n",
       "      <td>177</td>\n",
       "      <td>19.9</td>\n",
       "      <td>float64</td>\n",
       "    </tr>\n",
       "    <tr>\n",
       "      <th>Embarked</th>\n",
       "      <td>2</td>\n",
       "      <td>0.2</td>\n",
       "      <td>object</td>\n",
       "    </tr>\n",
       "  </tbody>\n",
       "</table>\n",
       "</div>"
      ],
      "text/plain": [
       "            Missing Values  % of Total Values Data Types\n",
       "Age_random             714               80.1    float64\n",
       "Cabin                  687               77.1     object\n",
       "Age                    177               19.9    float64\n",
       "Embarked                 2                0.2     object"
      ]
     },
     "execution_count": 41,
     "metadata": {},
     "output_type": "execute_result"
    }
   ],
   "source": [
    "t_miss = missing_values_table(titanic)\n",
    "t_miss"
   ]
  },
  {
   "cell_type": "code",
   "execution_count": 42,
   "id": "b2916d21",
   "metadata": {
    "execution": {
     "iopub.execute_input": "2021-07-29T02:39:00.765478Z",
     "iopub.status.busy": "2021-07-29T02:39:00.764952Z",
     "iopub.status.idle": "2021-07-29T02:39:00.770299Z",
     "shell.execute_reply": "2021-07-29T02:39:00.770788Z",
     "shell.execute_reply.started": "2021-07-29T02:32:57.316410Z"
    },
    "papermill": {
     "duration": 0.075407,
     "end_time": "2021-07-29T02:39:00.770948",
     "exception": false,
     "start_time": "2021-07-29T02:39:00.695541",
     "status": "completed"
    },
    "tags": []
   },
   "outputs": [
    {
     "data": {
      "text/plain": [
       "['Cabin', 'Embarked']"
      ]
     },
     "execution_count": 42,
     "metadata": {},
     "output_type": "execute_result"
    }
   ],
   "source": [
    "t_miss[t_miss['Data Types'] == 'object'].index.tolist()"
   ]
  },
  {
   "cell_type": "code",
   "execution_count": 43,
   "id": "653245da",
   "metadata": {
    "execution": {
     "iopub.execute_input": "2021-07-29T02:39:00.909705Z",
     "iopub.status.busy": "2021-07-29T02:39:00.909092Z",
     "iopub.status.idle": "2021-07-29T02:39:00.913168Z",
     "shell.execute_reply": "2021-07-29T02:39:00.913638Z",
     "shell.execute_reply.started": "2021-07-29T02:32:57.325473Z"
    },
    "papermill": {
     "duration": 0.074709,
     "end_time": "2021-07-29T02:39:00.913811",
     "exception": false,
     "start_time": "2021-07-29T02:39:00.839102",
     "status": "completed"
    },
    "tags": []
   },
   "outputs": [],
   "source": [
    "cat_col = t_miss[t_miss['Data Types'] == 'object'].index.tolist()"
   ]
  },
  {
   "cell_type": "markdown",
   "id": "4215b540",
   "metadata": {
    "papermill": {
     "duration": 0.06772,
     "end_time": "2021-07-29T02:39:01.050078",
     "exception": false,
     "start_time": "2021-07-29T02:39:00.982358",
     "status": "completed"
    },
    "tags": []
   },
   "source": [
    "Take missing catgorical values"
   ]
  },
  {
   "cell_type": "code",
   "execution_count": 44,
   "id": "dc2ebfcf",
   "metadata": {
    "execution": {
     "iopub.execute_input": "2021-07-29T02:39:01.188358Z",
     "iopub.status.busy": "2021-07-29T02:39:01.187810Z",
     "iopub.status.idle": "2021-07-29T02:39:01.191307Z",
     "shell.execute_reply": "2021-07-29T02:39:01.191711Z",
     "shell.execute_reply.started": "2021-07-29T02:32:57.336973Z"
    },
    "papermill": {
     "duration": 0.073725,
     "end_time": "2021-07-29T02:39:01.191892",
     "exception": false,
     "start_time": "2021-07-29T02:39:01.118167",
     "status": "completed"
    },
    "tags": []
   },
   "outputs": [],
   "source": [
    "def nan_cat(df,var):\n",
    "    df[var].fillna('Other',inplace=True)"
   ]
  },
  {
   "cell_type": "markdown",
   "id": "14cb4195",
   "metadata": {
    "papermill": {
     "duration": 0.0674,
     "end_time": "2021-07-29T02:39:01.327405",
     "exception": false,
     "start_time": "2021-07-29T02:39:01.260005",
     "status": "completed"
    },
    "tags": []
   },
   "source": [
    "create function"
   ]
  },
  {
   "cell_type": "code",
   "execution_count": 45,
   "id": "3252558d",
   "metadata": {
    "execution": {
     "iopub.execute_input": "2021-07-29T02:39:01.471673Z",
     "iopub.status.busy": "2021-07-29T02:39:01.471090Z",
     "iopub.status.idle": "2021-07-29T02:39:01.472887Z",
     "shell.execute_reply": "2021-07-29T02:39:01.473273Z",
     "shell.execute_reply.started": "2021-07-29T02:32:57.348754Z"
    },
    "papermill": {
     "duration": 0.078646,
     "end_time": "2021-07-29T02:39:01.473432",
     "exception": false,
     "start_time": "2021-07-29T02:39:01.394786",
     "status": "completed"
    },
    "tags": []
   },
   "outputs": [],
   "source": [
    "for col in cat_col:\n",
    "    nan_cat(titanic, col)"
   ]
  },
  {
   "cell_type": "code",
   "execution_count": 46,
   "id": "3d688ff9",
   "metadata": {
    "execution": {
     "iopub.execute_input": "2021-07-29T02:39:01.610769Z",
     "iopub.status.busy": "2021-07-29T02:39:01.610198Z",
     "iopub.status.idle": "2021-07-29T02:39:01.616460Z",
     "shell.execute_reply": "2021-07-29T02:39:01.616914Z",
     "shell.execute_reply.started": "2021-07-29T02:32:57.360736Z"
    },
    "papermill": {
     "duration": 0.076384,
     "end_time": "2021-07-29T02:39:01.617073",
     "exception": false,
     "start_time": "2021-07-29T02:39:01.540689",
     "status": "completed"
    },
    "tags": []
   },
   "outputs": [
    {
     "data": {
      "text/plain": [
       "Other          687\n",
       "B96 B98          4\n",
       "G6               4\n",
       "C23 C25 C27      4\n",
       "D                3\n",
       "              ... \n",
       "F E69            1\n",
       "C70              1\n",
       "E10              1\n",
       "B101             1\n",
       "E46              1\n",
       "Name: Cabin, Length: 148, dtype: int64"
      ]
     },
     "execution_count": 46,
     "metadata": {},
     "output_type": "execute_result"
    }
   ],
   "source": [
    "titanic.Cabin.value_counts()"
   ]
  },
  {
   "cell_type": "markdown",
   "id": "f9994ab8",
   "metadata": {
    "papermill": {
     "duration": 0.068838,
     "end_time": "2021-07-29T02:39:01.753592",
     "exception": false,
     "start_time": "2021-07-29T02:39:01.684754",
     "status": "completed"
    },
    "tags": []
   },
   "source": [
    "Advantage\n",
    "1. Fast way\n",
    "\n",
    "Disadvantage\n",
    "1. May change distribution\n",
    "1. Cannot use everytime"
   ]
  },
  {
   "cell_type": "markdown",
   "id": "5e2e648e",
   "metadata": {
    "papermill": {
     "duration": 0.06719,
     "end_time": "2021-07-29T02:39:01.888028",
     "exception": false,
     "start_time": "2021-07-29T02:39:01.820838",
     "status": "completed"
    },
    "tags": []
   },
   "source": [
    "<a id='interpolation'></a>\n",
    "# Interpolation"
   ]
  },
  {
   "cell_type": "markdown",
   "id": "51ce82ca",
   "metadata": {
    "papermill": {
     "duration": 0.068806,
     "end_time": "2021-07-29T02:39:02.024192",
     "exception": false,
     "start_time": "2021-07-29T02:39:01.955386",
     "status": "completed"
    },
    "tags": []
   },
   "source": [
    "We uses various interpolation technique to fill the missing values rather than hard-coding the value.\n",
    "\n",
    "DataFrame.interpolate(method='linear', axis=0, limit=None, inplace=False, limit_direction=None, limit_area=None, downcast=None, **kwargs)\n",
    "Fill NaN values using an interpolation method."
   ]
  },
  {
   "cell_type": "code",
   "execution_count": 47,
   "id": "e8319b50",
   "metadata": {
    "execution": {
     "iopub.execute_input": "2021-07-29T02:39:02.162723Z",
     "iopub.status.busy": "2021-07-29T02:39:02.162142Z",
     "iopub.status.idle": "2021-07-29T02:39:02.184243Z",
     "shell.execute_reply": "2021-07-29T02:39:02.183773Z",
     "shell.execute_reply.started": "2021-07-29T02:32:57.378716Z"
    },
    "papermill": {
     "duration": 0.092826,
     "end_time": "2021-07-29T02:39:02.184371",
     "exception": false,
     "start_time": "2021-07-29T02:39:02.091545",
     "status": "completed"
    },
    "tags": []
   },
   "outputs": [
    {
     "name": "stdout",
     "output_type": "stream",
     "text": [
      "Your selected dataframe has 79 columns.\n",
      "There are 3 columns that have missing values.\n"
     ]
    },
    {
     "data": {
      "text/html": [
       "<div>\n",
       "<style scoped>\n",
       "    .dataframe tbody tr th:only-of-type {\n",
       "        vertical-align: middle;\n",
       "    }\n",
       "\n",
       "    .dataframe tbody tr th {\n",
       "        vertical-align: top;\n",
       "    }\n",
       "\n",
       "    .dataframe thead th {\n",
       "        text-align: right;\n",
       "    }\n",
       "</style>\n",
       "<table border=\"1\" class=\"dataframe\">\n",
       "  <thead>\n",
       "    <tr style=\"text-align: right;\">\n",
       "      <th></th>\n",
       "      <th>Missing Values</th>\n",
       "      <th>% of Total Values</th>\n",
       "      <th>Data Types</th>\n",
       "    </tr>\n",
       "  </thead>\n",
       "  <tbody>\n",
       "    <tr>\n",
       "      <th>LotFrontage</th>\n",
       "      <td>259</td>\n",
       "      <td>17.7</td>\n",
       "      <td>float64</td>\n",
       "    </tr>\n",
       "    <tr>\n",
       "      <th>GarageYrBlt</th>\n",
       "      <td>81</td>\n",
       "      <td>5.5</td>\n",
       "      <td>float64</td>\n",
       "    </tr>\n",
       "    <tr>\n",
       "      <th>MasVnrArea</th>\n",
       "      <td>8</td>\n",
       "      <td>0.5</td>\n",
       "      <td>float64</td>\n",
       "    </tr>\n",
       "  </tbody>\n",
       "</table>\n",
       "</div>"
      ],
      "text/plain": [
       "             Missing Values  % of Total Values Data Types\n",
       "LotFrontage             259               17.7    float64\n",
       "GarageYrBlt              81                5.5    float64\n",
       "MasVnrArea                8                0.5    float64"
      ]
     },
     "execution_count": 47,
     "metadata": {},
     "output_type": "execute_result"
    }
   ],
   "source": [
    "missing_values_table(house)"
   ]
  },
  {
   "cell_type": "code",
   "execution_count": 48,
   "id": "e0610ca9",
   "metadata": {
    "execution": {
     "iopub.execute_input": "2021-07-29T02:39:02.342743Z",
     "iopub.status.busy": "2021-07-29T02:39:02.330583Z",
     "iopub.status.idle": "2021-07-29T02:39:02.546243Z",
     "shell.execute_reply": "2021-07-29T02:39:02.545448Z",
     "shell.execute_reply.started": "2021-07-29T02:32:57.410606Z"
    },
    "papermill": {
     "duration": 0.293583,
     "end_time": "2021-07-29T02:39:02.546538",
     "exception": false,
     "start_time": "2021-07-29T02:39:02.252955",
     "status": "completed"
    },
    "tags": []
   },
   "outputs": [
    {
     "data": {
      "text/plain": [
       "<AxesSubplot:xlabel='LotFrontage', ylabel='Count'>"
      ]
     },
     "execution_count": 48,
     "metadata": {},
     "output_type": "execute_result"
    },
    {
     "data": {
      "image/png": "[encoded data removed]",
      "text/plain": [
       "<Figure size 432x288 with 1 Axes>"
      ]
     },
     "metadata": {},
     "output_type": "display_data"
    }
   ],
   "source": [
    "sns.histplot(house.LotFrontage, bins=20)"
   ]
  },
  {
   "cell_type": "code",
   "execution_count": 49,
   "id": "6f040dd4",
   "metadata": {
    "execution": {
     "iopub.execute_input": "2021-07-29T02:39:02.710428Z",
     "iopub.status.busy": "2021-07-29T02:39:02.693595Z",
     "iopub.status.idle": "2021-07-29T02:39:02.868747Z",
     "shell.execute_reply": "2021-07-29T02:39:02.868230Z",
     "shell.execute_reply.started": "2021-07-29T02:32:57.646482Z"
    },
    "papermill": {
     "duration": 0.250405,
     "end_time": "2021-07-29T02:39:02.868893",
     "exception": false,
     "start_time": "2021-07-29T02:39:02.618488",
     "status": "completed"
    },
    "tags": []
   },
   "outputs": [
    {
     "data": {
      "text/plain": [
       "<AxesSubplot:xlabel='LotFrontage', ylabel='Count'>"
      ]
     },
     "execution_count": 49,
     "metadata": {},
     "output_type": "execute_result"
    },
    {
     "data": {
      "image/png": "[encoded data removed]",
      "text/plain": [
       "<Figure size 432x288 with 1 Axes>"
      ]
     },
     "metadata": {},
     "output_type": "display_data"
    }
   ],
   "source": [
    "interpolate = house.LotFrontage.interpolate(method='linear')\n",
    "sns.histplot(interpolate, bins=20)"
   ]
  },
  {
   "cell_type": "markdown",
   "id": "27471ac3",
   "metadata": {
    "papermill": {
     "duration": 0.071044,
     "end_time": "2021-07-29T02:39:03.010457",
     "exception": false,
     "start_time": "2021-07-29T02:39:02.939413",
     "status": "completed"
    },
    "tags": []
   },
   "source": [
    "we see there is no change in distribution"
   ]
  },
  {
   "cell_type": "markdown",
   "id": "b5781e79",
   "metadata": {
    "papermill": {
     "duration": 0.072457,
     "end_time": "2021-07-29T02:39:03.153185",
     "exception": false,
     "start_time": "2021-07-29T02:39:03.080728",
     "status": "completed"
    },
    "tags": []
   },
   "source": [
    "Let's try another method"
   ]
  },
  {
   "cell_type": "code",
   "execution_count": 50,
   "id": "b8612420",
   "metadata": {
    "execution": {
     "iopub.execute_input": "2021-07-29T02:39:03.299456Z",
     "iopub.status.busy": "2021-07-29T02:39:03.298851Z",
     "iopub.status.idle": "2021-07-29T02:39:03.493245Z",
     "shell.execute_reply": "2021-07-29T02:39:03.493709Z",
     "shell.execute_reply.started": "2021-07-29T02:32:57.836544Z"
    },
    "papermill": {
     "duration": 0.270284,
     "end_time": "2021-07-29T02:39:03.493877",
     "exception": false,
     "start_time": "2021-07-29T02:39:03.223593",
     "status": "completed"
    },
    "tags": []
   },
   "outputs": [
    {
     "data": {
      "text/plain": [
       "<AxesSubplot:xlabel='LotFrontage', ylabel='Count'>"
      ]
     },
     "execution_count": 50,
     "metadata": {},
     "output_type": "execute_result"
    },
    {
     "data": {
      "image/png": "[encoded data removed]",
      "text/plain": [
       "<Figure size 432x288 with 1 Axes>"
      ]
     },
     "metadata": {},
     "output_type": "display_data"
    }
   ],
   "source": [
    "sns.histplot(house.LotFrontage.interpolate(method='polynomial', order=2),bins=20)"
   ]
  },
  {
   "cell_type": "markdown",
   "id": "a885ad8d",
   "metadata": {
    "papermill": {
     "duration": 0.070856,
     "end_time": "2021-07-29T02:39:03.635877",
     "exception": false,
     "start_time": "2021-07-29T02:39:03.565021",
     "status": "completed"
    },
    "tags": []
   },
   "source": [
    "Various methods:\n",
    "‘nearest’, ‘zero’, ‘slinear’, ‘quadratic’, ‘cubic’, ‘spline’, ‘barycentric’, ‘polynomial’\n",
    "\n",
    "CheckOut\n",
    "[Documentaion](https://pandas.pydata.org/pandas-docs/stable/reference/api/pandas.DataFrame.interpolate.html)"
   ]
  },
  {
   "cell_type": "markdown",
   "id": "449c665a",
   "metadata": {
    "papermill": {
     "duration": 0.071193,
     "end_time": "2021-07-29T02:39:03.778777",
     "exception": false,
     "start_time": "2021-07-29T02:39:03.707584",
     "status": "completed"
    },
    "tags": []
   },
   "source": [
    "Advantage\n",
    "1. Fast implementation\n",
    "2. No change in distribution\n",
    "3. Various method available\n",
    "\n",
    "Disadvantage\n",
    "1. Not useful when lots of null values he just linearly place value\n",
    "2. Hard to select method"
   ]
  },
  {
   "cell_type": "markdown",
   "id": "a9e70941",
   "metadata": {
    "execution": {
     "iopub.execute_input": "2021-07-13T01:39:00.704729Z",
     "iopub.status.busy": "2021-07-13T01:39:00.704199Z",
     "iopub.status.idle": "2021-07-13T01:39:00.711506Z",
     "shell.execute_reply": "2021-07-13T01:39:00.709557Z",
     "shell.execute_reply.started": "2021-07-13T01:39:00.704694Z"
    },
    "papermill": {
     "duration": 0.071486,
     "end_time": "2021-07-29T02:39:03.921505",
     "exception": false,
     "start_time": "2021-07-29T02:39:03.850019",
     "status": "completed"
    },
    "tags": []
   },
   "source": [
    "<a id='model'></a>\n",
    "# Model-Based Imputation"
   ]
  },
  {
   "cell_type": "markdown",
   "id": "5f0b9036",
   "metadata": {
    "papermill": {
     "duration": 0.071108,
     "end_time": "2021-07-29T02:39:04.064345",
     "exception": false,
     "start_time": "2021-07-29T02:39:03.993237",
     "status": "completed"
    },
    "tags": []
   },
   "source": [
    "Why not use ML models to predict NaN values (sound intreasting!) and it is!!!!"
   ]
  },
  {
   "cell_type": "code",
   "execution_count": 51,
   "id": "0267fc58",
   "metadata": {
    "execution": {
     "iopub.execute_input": "2021-07-29T02:39:04.210574Z",
     "iopub.status.busy": "2021-07-29T02:39:04.209610Z",
     "iopub.status.idle": "2021-07-29T02:39:04.233973Z",
     "shell.execute_reply": "2021-07-29T02:39:04.234501Z",
     "shell.execute_reply.started": "2021-07-29T02:32:58.040734Z"
    },
    "papermill": {
     "duration": 0.098803,
     "end_time": "2021-07-29T02:39:04.234675",
     "exception": false,
     "start_time": "2021-07-29T02:39:04.135872",
     "status": "completed"
    },
    "tags": []
   },
   "outputs": [
    {
     "name": "stdout",
     "output_type": "stream",
     "text": [
      "Your selected dataframe has 12 columns.\n",
      "There are 3 columns that have missing values.\n"
     ]
    },
    {
     "data": {
      "text/html": [
       "<div>\n",
       "<style scoped>\n",
       "    .dataframe tbody tr th:only-of-type {\n",
       "        vertical-align: middle;\n",
       "    }\n",
       "\n",
       "    .dataframe tbody tr th {\n",
       "        vertical-align: top;\n",
       "    }\n",
       "\n",
       "    .dataframe thead th {\n",
       "        text-align: right;\n",
       "    }\n",
       "</style>\n",
       "<table border=\"1\" class=\"dataframe\">\n",
       "  <thead>\n",
       "    <tr style=\"text-align: right;\">\n",
       "      <th></th>\n",
       "      <th>Missing Values</th>\n",
       "      <th>% of Total Values</th>\n",
       "      <th>Data Types</th>\n",
       "    </tr>\n",
       "  </thead>\n",
       "  <tbody>\n",
       "    <tr>\n",
       "      <th>Cabin</th>\n",
       "      <td>687</td>\n",
       "      <td>77.1</td>\n",
       "      <td>object</td>\n",
       "    </tr>\n",
       "    <tr>\n",
       "      <th>Age</th>\n",
       "      <td>177</td>\n",
       "      <td>19.9</td>\n",
       "      <td>float64</td>\n",
       "    </tr>\n",
       "    <tr>\n",
       "      <th>Embarked</th>\n",
       "      <td>2</td>\n",
       "      <td>0.2</td>\n",
       "      <td>object</td>\n",
       "    </tr>\n",
       "  </tbody>\n",
       "</table>\n",
       "</div>"
      ],
      "text/plain": [
       "          Missing Values  % of Total Values Data Types\n",
       "Cabin                687               77.1     object\n",
       "Age                  177               19.9    float64\n",
       "Embarked               2                0.2     object"
      ]
     },
     "execution_count": 51,
     "metadata": {},
     "output_type": "execute_result"
    }
   ],
   "source": [
    "titanic = pd.read_csv('../input/titanic/train.csv')\n",
    "missing_values_table(titanic)"
   ]
  },
  {
   "cell_type": "markdown",
   "id": "de562972",
   "metadata": {
    "papermill": {
     "duration": 0.073629,
     "end_time": "2021-07-29T02:39:04.380628",
     "exception": false,
     "start_time": "2021-07-29T02:39:04.306999",
     "status": "completed"
    },
    "tags": []
   },
   "source": [
    "* We can use this technique for both continous and categorical \n",
    "* We can use advnace models like XGBoost, Random Forest \n",
    "\n",
    "\n",
    "Age"
   ]
  },
  {
   "cell_type": "code",
   "execution_count": 52,
   "id": "ceb62ab8",
   "metadata": {
    "execution": {
     "iopub.execute_input": "2021-07-29T02:39:04.526829Z",
     "iopub.status.busy": "2021-07-29T02:39:04.526271Z",
     "iopub.status.idle": "2021-07-29T02:39:04.533964Z",
     "shell.execute_reply": "2021-07-29T02:39:04.534378Z",
     "shell.execute_reply.started": "2021-07-29T02:32:58.069439Z"
    },
    "papermill": {
     "duration": 0.082001,
     "end_time": "2021-07-29T02:39:04.534531",
     "exception": false,
     "start_time": "2021-07-29T02:39:04.452530",
     "status": "completed"
    },
    "tags": []
   },
   "outputs": [],
   "source": [
    "# Prepare data for Model\n",
    "temp_titanic = titanic.copy()\n",
    "temp_titanic.dropna(inplace=True)  #drop all null values from New dataset\n",
    "age_X = temp_titanic[['Pclass','SibSp','Parch', 'Fare']]  # take numerical columns\n",
    "age_y = temp_titanic.Age # Our null value column is Target"
   ]
  },
  {
   "cell_type": "code",
   "execution_count": 53,
   "id": "1c162bf5",
   "metadata": {
    "execution": {
     "iopub.execute_input": "2021-07-29T02:39:04.681790Z",
     "iopub.status.busy": "2021-07-29T02:39:04.681223Z",
     "iopub.status.idle": "2021-07-29T02:39:04.980637Z",
     "shell.execute_reply": "2021-07-29T02:39:04.980217Z",
     "shell.execute_reply.started": "2021-07-29T02:32:58.083436Z"
    },
    "papermill": {
     "duration": 0.374015,
     "end_time": "2021-07-29T02:39:04.980786",
     "exception": false,
     "start_time": "2021-07-29T02:39:04.606771",
     "status": "completed"
    },
    "tags": []
   },
   "outputs": [
    {
     "data": {
      "text/plain": [
       "0.29668220909615994"
      ]
     },
     "execution_count": 53,
     "metadata": {},
     "output_type": "execute_result"
    }
   ],
   "source": [
    "from sklearn.neighbors import KNeighborsRegressor\n",
    "na_knn = KNeighborsRegressor()\n",
    "na_knn.fit(age_X,age_y)\n",
    "na_knn.score(age_X,age_y)"
   ]
  },
  {
   "cell_type": "markdown",
   "id": "6783c878",
   "metadata": {
    "papermill": {
     "duration": 0.071604,
     "end_time": "2021-07-29T02:39:05.125509",
     "exception": false,
     "start_time": "2021-07-29T02:39:05.053905",
     "status": "completed"
    },
    "tags": []
   },
   "source": [
    "Good score, it doesn't need to be 0\n",
    "\n",
    "Here, we do regression so score is in R2, lower the R2 better model"
   ]
  },
  {
   "cell_type": "code",
   "execution_count": 54,
   "id": "7c513d6e",
   "metadata": {
    "execution": {
     "iopub.execute_input": "2021-07-29T02:39:05.277038Z",
     "iopub.status.busy": "2021-07-29T02:39:05.276428Z",
     "iopub.status.idle": "2021-07-29T02:39:05.278876Z",
     "shell.execute_reply": "2021-07-29T02:39:05.279256Z",
     "shell.execute_reply.started": "2021-07-29T02:32:58.100438Z"
    },
    "papermill": {
     "duration": 0.080054,
     "end_time": "2021-07-29T02:39:05.279415",
     "exception": false,
     "start_time": "2021-07-29T02:39:05.199361",
     "status": "completed"
    },
    "tags": []
   },
   "outputs": [],
   "source": [
    "na_age_index = titanic[titanic['Age'].isna()]  \n",
    "# Take all values their Age has null value\n",
    "# Here we go slowly slowly each line by line"
   ]
  },
  {
   "cell_type": "code",
   "execution_count": 55,
   "id": "8ec18081",
   "metadata": {
    "execution": {
     "iopub.execute_input": "2021-07-29T02:39:05.439812Z",
     "iopub.status.busy": "2021-07-29T02:39:05.439182Z",
     "iopub.status.idle": "2021-07-29T02:39:05.443349Z",
     "shell.execute_reply": "2021-07-29T02:39:05.442897Z",
     "shell.execute_reply.started": "2021-07-29T02:32:58.115593Z"
    },
    "papermill": {
     "duration": 0.091898,
     "end_time": "2021-07-29T02:39:05.443475",
     "exception": false,
     "start_time": "2021-07-29T02:39:05.351577",
     "status": "completed"
    },
    "tags": []
   },
   "outputs": [
    {
     "data": {
      "text/html": [
       "<div>\n",
       "<style scoped>\n",
       "    .dataframe tbody tr th:only-of-type {\n",
       "        vertical-align: middle;\n",
       "    }\n",
       "\n",
       "    .dataframe tbody tr th {\n",
       "        vertical-align: top;\n",
       "    }\n",
       "\n",
       "    .dataframe thead th {\n",
       "        text-align: right;\n",
       "    }\n",
       "</style>\n",
       "<table border=\"1\" class=\"dataframe\">\n",
       "  <thead>\n",
       "    <tr style=\"text-align: right;\">\n",
       "      <th></th>\n",
       "      <th>Pclass</th>\n",
       "      <th>SibSp</th>\n",
       "      <th>Parch</th>\n",
       "      <th>Fare</th>\n",
       "    </tr>\n",
       "  </thead>\n",
       "  <tbody>\n",
       "    <tr>\n",
       "      <th>5</th>\n",
       "      <td>3</td>\n",
       "      <td>0</td>\n",
       "      <td>0</td>\n",
       "      <td>8.4583</td>\n",
       "    </tr>\n",
       "    <tr>\n",
       "      <th>17</th>\n",
       "      <td>2</td>\n",
       "      <td>0</td>\n",
       "      <td>0</td>\n",
       "      <td>13.0000</td>\n",
       "    </tr>\n",
       "    <tr>\n",
       "      <th>19</th>\n",
       "      <td>3</td>\n",
       "      <td>0</td>\n",
       "      <td>0</td>\n",
       "      <td>7.2250</td>\n",
       "    </tr>\n",
       "    <tr>\n",
       "      <th>26</th>\n",
       "      <td>3</td>\n",
       "      <td>0</td>\n",
       "      <td>0</td>\n",
       "      <td>7.2250</td>\n",
       "    </tr>\n",
       "    <tr>\n",
       "      <th>28</th>\n",
       "      <td>3</td>\n",
       "      <td>0</td>\n",
       "      <td>0</td>\n",
       "      <td>7.8792</td>\n",
       "    </tr>\n",
       "    <tr>\n",
       "      <th>...</th>\n",
       "      <td>...</td>\n",
       "      <td>...</td>\n",
       "      <td>...</td>\n",
       "      <td>...</td>\n",
       "    </tr>\n",
       "    <tr>\n",
       "      <th>859</th>\n",
       "      <td>3</td>\n",
       "      <td>0</td>\n",
       "      <td>0</td>\n",
       "      <td>7.2292</td>\n",
       "    </tr>\n",
       "    <tr>\n",
       "      <th>863</th>\n",
       "      <td>3</td>\n",
       "      <td>8</td>\n",
       "      <td>2</td>\n",
       "      <td>69.5500</td>\n",
       "    </tr>\n",
       "    <tr>\n",
       "      <th>868</th>\n",
       "      <td>3</td>\n",
       "      <td>0</td>\n",
       "      <td>0</td>\n",
       "      <td>9.5000</td>\n",
       "    </tr>\n",
       "    <tr>\n",
       "      <th>878</th>\n",
       "      <td>3</td>\n",
       "      <td>0</td>\n",
       "      <td>0</td>\n",
       "      <td>7.8958</td>\n",
       "    </tr>\n",
       "    <tr>\n",
       "      <th>888</th>\n",
       "      <td>3</td>\n",
       "      <td>1</td>\n",
       "      <td>2</td>\n",
       "      <td>23.4500</td>\n",
       "    </tr>\n",
       "  </tbody>\n",
       "</table>\n",
       "<p>177 rows × 4 columns</p>\n",
       "</div>"
      ],
      "text/plain": [
       "     Pclass  SibSp  Parch     Fare\n",
       "5         3      0      0   8.4583\n",
       "17        2      0      0  13.0000\n",
       "19        3      0      0   7.2250\n",
       "26        3      0      0   7.2250\n",
       "28        3      0      0   7.8792\n",
       "..      ...    ...    ...      ...\n",
       "859       3      0      0   7.2292\n",
       "863       3      8      2  69.5500\n",
       "868       3      0      0   9.5000\n",
       "878       3      0      0   7.8958\n",
       "888       3      1      2  23.4500\n",
       "\n",
       "[177 rows x 4 columns]"
      ]
     },
     "execution_count": 55,
     "metadata": {},
     "output_type": "execute_result"
    }
   ],
   "source": [
    "na_age_index = titanic[titanic['Age'].isna()][['Pclass','SibSp','Parch', 'Fare']]\n",
    "# we select dataframe where age has null value\n",
    "# then we select only those column that we take when we train model\n",
    "titanic[titanic['Age'].isna()][['Pclass','SibSp','Parch', 'Fare']]"
   ]
  },
  {
   "cell_type": "code",
   "execution_count": 56,
   "id": "7eb756bc",
   "metadata": {
    "execution": {
     "iopub.execute_input": "2021-07-29T02:39:05.591169Z",
     "iopub.status.busy": "2021-07-29T02:39:05.590583Z",
     "iopub.status.idle": "2021-07-29T02:39:05.596614Z",
     "shell.execute_reply": "2021-07-29T02:39:05.597070Z",
     "shell.execute_reply.started": "2021-07-29T02:32:58.142009Z"
    },
    "papermill": {
     "duration": 0.081127,
     "end_time": "2021-07-29T02:39:05.597226",
     "exception": false,
     "start_time": "2021-07-29T02:39:05.516099",
     "status": "completed"
    },
    "tags": []
   },
   "outputs": [],
   "source": [
    "age_na_pred = na_knn.predict(na_age_index)\n",
    "# we take that dataframe of null age with selected column and predict age"
   ]
  },
  {
   "cell_type": "code",
   "execution_count": 57,
   "id": "c3618843",
   "metadata": {
    "execution": {
     "iopub.execute_input": "2021-07-29T02:39:05.744803Z",
     "iopub.status.busy": "2021-07-29T02:39:05.744265Z",
     "iopub.status.idle": "2021-07-29T02:39:05.748181Z",
     "shell.execute_reply": "2021-07-29T02:39:05.748649Z",
     "shell.execute_reply.started": "2021-07-29T02:32:58.151156Z"
    },
    "papermill": {
     "duration": 0.079144,
     "end_time": "2021-07-29T02:39:05.748823",
     "exception": false,
     "start_time": "2021-07-29T02:39:05.669679",
     "status": "completed"
    },
    "tags": []
   },
   "outputs": [],
   "source": [
    "age_fill_na = titanic[titanic['Age'].isna()].index\n",
    "# Take index where age is NaN"
   ]
  },
  {
   "cell_type": "code",
   "execution_count": 58,
   "id": "8e3fbc78",
   "metadata": {
    "execution": {
     "iopub.execute_input": "2021-07-29T02:39:05.899716Z",
     "iopub.status.busy": "2021-07-29T02:39:05.899176Z",
     "iopub.status.idle": "2021-07-29T02:39:05.901988Z",
     "shell.execute_reply": "2021-07-29T02:39:05.901397Z",
     "shell.execute_reply.started": "2021-07-29T02:32:58.163284Z"
    },
    "papermill": {
     "duration": 0.079715,
     "end_time": "2021-07-29T02:39:05.902117",
     "exception": false,
     "start_time": "2021-07-29T02:39:05.822402",
     "status": "completed"
    },
    "tags": []
   },
   "outputs": [],
   "source": [
    "titanic.loc[age_fill_na,'Age'] = age_na_pred\n",
    "# We fill null values by predicted model values"
   ]
  },
  {
   "cell_type": "code",
   "execution_count": 59,
   "id": "af78bfbd",
   "metadata": {
    "execution": {
     "iopub.execute_input": "2021-07-29T02:39:06.066243Z",
     "iopub.status.busy": "2021-07-29T02:39:06.055743Z",
     "iopub.status.idle": "2021-07-29T02:39:06.071259Z",
     "shell.execute_reply": "2021-07-29T02:39:06.071673Z",
     "shell.execute_reply.started": "2021-07-29T02:32:58.177270Z"
    },
    "papermill": {
     "duration": 0.096316,
     "end_time": "2021-07-29T02:39:06.071852",
     "exception": false,
     "start_time": "2021-07-29T02:39:05.975536",
     "status": "completed"
    },
    "tags": []
   },
   "outputs": [
    {
     "name": "stdout",
     "output_type": "stream",
     "text": [
      "Your selected dataframe has 12 columns.\n",
      "There are 2 columns that have missing values.\n"
     ]
    },
    {
     "data": {
      "text/html": [
       "<div>\n",
       "<style scoped>\n",
       "    .dataframe tbody tr th:only-of-type {\n",
       "        vertical-align: middle;\n",
       "    }\n",
       "\n",
       "    .dataframe tbody tr th {\n",
       "        vertical-align: top;\n",
       "    }\n",
       "\n",
       "    .dataframe thead th {\n",
       "        text-align: right;\n",
       "    }\n",
       "</style>\n",
       "<table border=\"1\" class=\"dataframe\">\n",
       "  <thead>\n",
       "    <tr style=\"text-align: right;\">\n",
       "      <th></th>\n",
       "      <th>Missing Values</th>\n",
       "      <th>% of Total Values</th>\n",
       "      <th>Data Types</th>\n",
       "    </tr>\n",
       "  </thead>\n",
       "  <tbody>\n",
       "    <tr>\n",
       "      <th>Cabin</th>\n",
       "      <td>687</td>\n",
       "      <td>77.1</td>\n",
       "      <td>object</td>\n",
       "    </tr>\n",
       "    <tr>\n",
       "      <th>Embarked</th>\n",
       "      <td>2</td>\n",
       "      <td>0.2</td>\n",
       "      <td>object</td>\n",
       "    </tr>\n",
       "  </tbody>\n",
       "</table>\n",
       "</div>"
      ],
      "text/plain": [
       "          Missing Values  % of Total Values Data Types\n",
       "Cabin                687               77.1     object\n",
       "Embarked               2                0.2     object"
      ]
     },
     "execution_count": 59,
     "metadata": {},
     "output_type": "execute_result"
    }
   ],
   "source": [
    "missing_values_table(titanic)"
   ]
  },
  {
   "cell_type": "markdown",
   "id": "8168de58",
   "metadata": {
    "papermill": {
     "duration": 0.072808,
     "end_time": "2021-07-29T02:39:06.218593",
     "exception": false,
     "start_time": "2021-07-29T02:39:06.145785",
     "status": "completed"
    },
    "tags": []
   },
   "source": [
    "Very long process\n",
    "\n",
    "Advantage\n",
    "1. It quite good\n",
    "1. We can also check how good our model is\n",
    "\n",
    "Disadvantage\n",
    "1. Hard to implement\n",
    "1. Each column reqire different Model"
   ]
  },
  {
   "cell_type": "markdown",
   "id": "5012d0bc",
   "metadata": {
    "papermill": {
     "duration": 0.07301,
     "end_time": "2021-07-29T02:39:06.365336",
     "exception": false,
     "start_time": "2021-07-29T02:39:06.292326",
     "status": "completed"
    },
    "tags": []
   },
   "source": [
    "### Pro tip: \n",
    "* Do not use your original target feature in Null value model, Beacuse that column is absent in test dataset\n",
    "* We can use decision trees when categorical features in model (trees handle categorical features)"
   ]
  },
  {
   "cell_type": "markdown",
   "id": "6077e685",
   "metadata": {
    "papermill": {
     "duration": 0.07778,
     "end_time": "2021-07-29T02:39:06.516676",
     "exception": false,
     "start_time": "2021-07-29T02:39:06.438896",
     "status": "completed"
    },
    "tags": []
   },
   "source": [
    "My other useful Notebooks:\n",
    "\n",
    "### [Multiprocessing Made Easy !!!]('https://www.kaggle.com/rushikeshdarge/multiprocessing-made-easy')\n",
    "\n",
    "### [Popular Graphs for Beginners]('https://www.kaggle.com/rushikeshdarge/popular-graphs-for-beginners')\n",
    "\n",
    "### [Detail Data Exploration [EDA] of New York City Taxi]('https://www.kaggle.com/rushikeshdarge/data-exploration-eda-of-new-york-city-taxi')"
   ]
  }
 ],
 "metadata": {
  "kernelspec": {
   "display_name": "Python 3",
   "language": "python",
   "name": "python3"
  },
  "language_info": {
   "codemirror_mode": {
    "name": "ipython",
    "version": 3
   },
   "file_extension": ".py",
   "mimetype": "text/x-python",
   "name": "python",
   "nbconvert_exporter": "python",
   "pygments_lexer": "ipython3",
   "version": "3.7.10"
  },
  "papermill": {
   "default_parameters": {},
   "duration": 26.849279,
   "end_time": "2021-07-29T02:39:08.014279",
   "environment_variables": {},
   "exception": null,
   "input_path": "__notebook__.ipynb",
   "output_path": "__notebook__.ipynb",
   "parameters": {},
   "start_time": "2021-07-29T02:38:41.165000",
   "version": "2.3.3"
  }
 },
 "nbformat": 4,
 "nbformat_minor": 5
}
